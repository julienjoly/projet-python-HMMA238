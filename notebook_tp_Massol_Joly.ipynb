{
 "cells": [
  {
   "cell_type": "markdown",
   "metadata": {},
   "source": [
    "# TP noté HMMA238\n",
    "\n",
    "\n",
    "\n",
    "## Exercice 1: Le jeu de la vie\n",
    "\n",
    "\n",
    "## Partie I : Implémentation sans numpy\n",
    "\n"
   ]
  },
  {
   "cell_type": "code",
   "execution_count": null,
   "metadata": {},
   "outputs": [],
   "source": [
    "La première chose à faire est de charger toutes les fonctions que nous avons créer et que nous allons utiliser dans ce compte rendu de TP."
   ]
  },
  {
   "cell_type": "code",
   "execution_count": 61,
   "metadata": {},
   "outputs": [
    {
     "ename": "NameError",
     "evalue": "name 'all_n_samples' is not defined",
     "output_type": "error",
     "traceback": [
      "\u001b[1;31m---------------------------------------------------------------------------\u001b[0m",
      "\u001b[1;31mNameError\u001b[0m                                 Traceback (most recent call last)",
      "\u001b[1;32m~\\Desktop\\Python\\projet-python-HMMA238\\utils.py.ipynb\u001b[0m in \u001b[0;36m<module>\u001b[1;34m\u001b[0m\n\u001b[0;32m      7\u001b[0m \u001b[0mt2\u001b[0m \u001b[1;33m=\u001b[0m \u001b[1;33m[\u001b[0m\u001b[1;33m]\u001b[0m\u001b[1;33m\u001b[0m\u001b[1;33m\u001b[0m\u001b[0m\n\u001b[0;32m      8\u001b[0m \u001b[1;33m\u001b[0m\u001b[0m\n\u001b[1;32m----> 9\u001b[1;33m \u001b[1;32mfor\u001b[0m \u001b[0mn_samples\u001b[0m \u001b[1;32min\u001b[0m \u001b[0mall_n_samples\u001b[0m\u001b[1;33m:\u001b[0m\u001b[1;33m\u001b[0m\u001b[1;33m\u001b[0m\u001b[0m\n\u001b[0m\u001b[0;32m     10\u001b[0m \u001b[1;33m\u001b[0m\u001b[0m\n\u001b[0;32m     11\u001b[0m \u001b[1;33m\u001b[0m\u001b[0m\n",
      "\u001b[1;31mNameError\u001b[0m: name 'all_n_samples' is not defined"
     ]
    }
   ],
   "source": [
    "run utils.py.ipynb\n"
   ]
  },
  {
   "cell_type": "markdown",
   "metadata": {},
   "source": [
    "### Question 4"
   ]
  },
  {
   "cell_type": "code",
   "execution_count": 30,
   "metadata": {},
   "outputs": [
    {
     "data": {
      "text/plain": [
       "[[0, 0, 0, 0, 0, 0],\n",
       " [0, 1, 3, 1, 2, 0],\n",
       " [0, 1, 5, 3, 3, 0],\n",
       " [0, 2, 3, 2, 2, 0],\n",
       " [0, 1, 2, 2, 1, 0],\n",
       " [0, 0, 0, 0, 0, 0]]"
      ]
     },
     "execution_count": 30,
     "metadata": {},
     "output_type": "execute_result"
    }
   ],
   "source": [
    "Z = [[0,0,0,0,0,0],\n",
    "[0,0,0,1,0,0],\n",
    "[0,1,0,1,0,0],\n",
    "[0,0,1,1,0,0],\n",
    "[0,0,0,0,0,0],\n",
    "[0,0,0,0,0,0]]\n",
    "\n",
    "N=calcul_nb_voisins(Z)\n",
    "N"
   ]
  },
  {
   "cell_type": "markdown",
   "metadata": {},
   "source": [
    "La sortie de cette fonction calcule le nombre de voisins vivants de chaque cellule sous forme d'une liste représentant le plateau de jeu."
   ]
  },
  {
   "cell_type": "markdown",
   "metadata": {},
   "source": [
    " Nous allons maintenant décrire et expliciter le fonctionnement et le but de la fonction iteration jeu qui nous a été fournie."
   ]
  },
  {
   "cell_type": "code",
   "execution_count": 31,
   "metadata": {},
   "outputs": [
    {
     "data": {
      "text/plain": [
       "'Nous récupérons notre matrice du jeu de la vie au tour n+1'"
      ]
     },
     "execution_count": 31,
     "metadata": {},
     "output_type": "execute_result"
    }
   ],
   "source": [
    "\"Nous donnonscomme argument notre matrice du jeu de la vie à un tour n\"\n",
    "\n",
    "def iteration_jeu(Z):\n",
    "    \n",
    "    forme = len(Z), len(Z[0])\n",
    "    N = calcul_nb_voisins(Z)\n",
    "    for x in range(1,forme[0]-1):\n",
    "        for y in range(1,forme[1]-1):\n",
    "            \"conditions de mort puis de naissance\"\n",
    "            if Z[x][y] == 1 and (N[x][y] < 2 or N[x][y] > 3):\n",
    "                Z[x][y] = 0\n",
    "            \n",
    "            elif Z[x][y] == 0 and N[x][y] == 3:\n",
    "                Z[x][y] = 1\n",
    "    return Z\n",
    "\"Nous récupérons notre matrice du jeu de la vie au tour n+1\""
   ]
  },
  {
   "cell_type": "markdown",
   "metadata": {},
   "source": [
    "### Question 5"
   ]
  },
  {
   "cell_type": "markdown",
   "metadata": {},
   "source": [
    "Cette fonction permet de réaliser un tour du jeu de la vie à partir des valeurs du tour précédent (Z) et de la fonction calcul_nb_voisins. Cette fonction modifie directement  notre liste Z avec la mise à jour des cellules : soit la cellule survie, soit la cellule périt."
   ]
  },
  {
   "cell_type": "code",
   "execution_count": 94,
   "metadata": {
    "scrolled": true
   },
   "outputs": [
    {
     "data": {
      "image/png": "[encoded data removed]",
      "text/plain": [
       "<Figure size 432x288 with 10 Axes>"
      ]
     },
     "metadata": {
      "needs_background": "light"
     },
     "output_type": "display_data"
    }
   ],
   "source": [
    "import matplotlib.pyplot as plt\n",
    "import numpy as np\n",
    "\n",
    "Z2=list(Z)\n",
    "\n",
    "plt.subplot(2,5,1)\n",
    "plt.imshow(np.asarray(Z2))\n",
    "\n",
    "for i in range(2,11):\n",
    "    Z=iteration_jeu(Z2)\n",
    "    plt.subplot(2,5,i)\n",
    "    plt.imshow(np.asarray(Z2))"
   ]
  },
  {
   "cell_type": "markdown",
   "metadata": {},
   "source": [
    "### Question 6"
   ]
  },
  {
   "cell_type": "markdown",
   "metadata": {},
   "source": [
    "Entre l'itération 0 et 4, nous remarquons que plusieurs cellules vivent et meurt à chaque itération, cependant le nombre de cellules vivantes reste inchangé (au nombre de 5) à chaque fin de tour.  \n",
    "À partir de l'itération 7 et ce jusqu'à l'itération 9, nous remarquons que le jeu est à l'équilibre. En effet, plus aucune cellule ne meurt ou ne naît. Cet équilibre se maintiendra peut importe le nombre de tour que nous réaliseront, le jeu est alors terminé, plus aucune évolution n'étant possible."
   ]
  },
  {
   "cell_type": "markdown",
   "metadata": {},
   "source": [
    "## Partie II : Implémentation avec numba"
   ]
  },
  {
   "cell_type": "markdown",
   "metadata": {},
   "source": [
    "### Question 7"
   ]
  },
  {
   "cell_type": "markdown",
   "metadata": {},
   "source": [
    "Nous commençons par importer les packages nécessaire à cette questions. "
   ]
  },
  {
   "cell_type": "code",
   "execution_count": 34,
   "metadata": {},
   "outputs": [],
   "source": [
    "import time\n",
    "from numba import jit"
   ]
  },
  {
   "cell_type": "code",
   "execution_count": 35,
   "metadata": {},
   "outputs": [],
   "source": [
    "@jit\n",
    "def iteration_jeu_nb(Z,n):\n",
    "    \n",
    "    affichage=(n//2)+1\n",
    "    Z2=np.asarray(list(Z))\n",
    "    plt.subplot(affichage,2,1)\n",
    "    plt.imshow(np.asarray(Z2))\n",
    "\n",
    "    for i in range(2,n+2):\n",
    "        Z=iteration_jeu(Z2)\n",
    "        plt.subplot(affichage,2,i)\n",
    "        plt.imshow(Z2)\n",
    "    return Z2"
   ]
  },
  {
   "cell_type": "code",
   "execution_count": 100,
   "metadata": {},
   "outputs": [
    {
     "name": "stdout",
     "output_type": "stream",
     "text": [
      "Temps écoulé avec la compilation de jit = 0.11593008041381836\n",
      "Temps écoulé après la compilation de jit = 0.007996320724487305\n"
     ]
    },
    {
     "data": {
      "image/png": "[encoded data removed]",
      "text/plain": [
       "<Figure size 432x288 with 11 Axes>"
      ]
     },
     "metadata": {
      "needs_background": "light"
     },
     "output_type": "display_data"
    }
   ],
   "source": [
    "\n",
    "start = time.time()\n",
    "iteration_jeu_nb(Z,10)\n",
    "end = time.time()\n",
    "print(\"Temps écoulé avec la compilation de jit = %s\" % (end - start))\n",
    "\n",
    "\n",
    "start = time.time()\n",
    "iteration_jeu_nb(Z,10)\n",
    "end = time.time()\n",
    "print(\"Temps écoulé après la compilation de jit = %s\" % (end - start))"
   ]
  },
  {
   "cell_type": "markdown",
   "metadata": {},
   "source": [
    "Ceci est une fonction permettant de calculer la différence de temps de calcul de la foncyion iteration_jeu_nb avant optimisation ²jit et après. Cette algorithme s'inspire d'un exemple d'utilisation réalisé en cours."
   ]
  },
  {
   "cell_type": "code",
   "execution_count": 402,
   "metadata": {},
   "outputs": [
    {
     "name": "stdout",
     "output_type": "stream",
     "text": [
      "Améliorations en pourcentage par rapport au code vanilla\n",
      "708.6758504859163\n",
      "-95.01285567618564\n"
     ]
    },
    {
     "data": {
      "image/png": "[encoded data removed]",
      "text/plain": [
       "<Figure size 432x288 with 8 Axes>"
      ]
     },
     "metadata": {
      "needs_background": "light"
     },
     "output_type": "display_data"
    }
   ],
   "source": [
    "t0=[]\n",
    "t1 = []\n",
    "t2 = []\n",
    "n=70\n",
    "\n",
    "for i in range(1,8):\n",
    "    \n",
    "    \n",
    "    @jit\n",
    "    def iteration_jeu_nb_optijit(Z,n):\n",
    "\n",
    "        affichage=(n//5)+1\n",
    "        Z2=np.asarray(list(Z))\n",
    "        plt.subplot(affichage,5,1)\n",
    "        plt.imshow(np.asarray(Z2))\n",
    "\n",
    "        for i in range(2,n+2):\n",
    "            Z=iteration_jeu(Z2)\n",
    "            plt.subplot(affichage,5,i)\n",
    "            plt.imshow(Z2)\n",
    "        return Z2\n",
    "\n",
    "\n",
    "    start = time.time()\n",
    "    iteration_jeu_nb_optijit(Z,i)\n",
    "    end = time.time()\n",
    "    t0.append(end - start)\n",
    "   \n",
    "    \n",
    "    # COMPILATION NON INCLUSE, EXECUTER DEPUIS LE CACHE\n",
    "    start = time.time()\n",
    "    iteration_jeu_nb_optijit(Z,i)\n",
    "    end = time.time()\n",
    "    t1.append(end - start)\n",
    "   \n",
    "    # VANILLA PYTHON\n",
    "    start = time.time()\n",
    "    iteration_jeu_nb(Z,i)\n",
    "    end = time.time()\n",
    "    t2.append(end - start)\n",
    "    \n",
    "\n",
    "\n",
    "t0=sum(t0)/len(t0)\n",
    "t1 = sum(t1)/len(t1)\n",
    "t2 = sum(t2)/len(t2)\n",
    "\n",
    "print(\"Améliorations en pourcentage par rapport au code vanilla\")\n",
    "\n",
    "print((t0-t2)/t2*100)\n",
    "print((t1 - t2)/t2 * 100)\n",
    "\n"
   ]
  },
  {
   "cell_type": "markdown",
   "metadata": {},
   "source": [
    "### Question 8\n",
    "\n"
   ]
  },
  {
   "cell_type": "code",
   "execution_count": 47,
   "metadata": {},
   "outputs": [],
   "source": [
    "Z_huge = np.zeros((50, 50))\n",
    "Z_np = np.array(\n",
    "[[0, 0, 0, 0, 0, 0],\n",
    "[0, 0, 0, 1, 0, 0],\n",
    "[0, 1, 0, 1, 0, 0],\n",
    "[0, 0, 1, 1, 0, 0],\n",
    "[0, 0, 0, 0, 0, 0],\n",
    "[0, 0, 0, 0, 0, 0]])\n",
    "Z_huge[8:14, 8:14] = Z_np\n"
   ]
  },
  {
   "cell_type": "code",
   "execution_count": 49,
   "metadata": {},
   "outputs": [
    {
     "data": {
      "application/vnd.jupyter.widget-view+json": {
       "model_id": "af5addf90a6741f2a94642f201195db7",
       "version_major": 2,
       "version_minor": 0
      },
      "text/plain": [
       "interactive(children=(IntSlider(value=85, description='n', max=170, min=1), Output()), _dom_classes=('widget-i…"
      ]
     },
     "metadata": {},
     "output_type": "display_data"
    }
   ],
   "source": [
    "\n",
    "ip.interact(iteration_jeu_Z_huge, n=(1,170,1));"
   ]
  },
  {
   "cell_type": "markdown",
   "metadata": {},
   "source": [
    "# Exercice II"
   ]
  },
  {
   "cell_type": "code",
   "execution_count": 105,
   "metadata": {
    "scrolled": true
   },
   "outputs": [],
   "source": [
    "from sklearn.datasets import fetch_openml"
   ]
  },
  {
   "cell_type": "code",
   "execution_count": 296,
   "metadata": {},
   "outputs": [],
   "source": [
    "mnist = fetch_openml('mnist_784')\n",
    "X = mnist.data.astype('float64')\n",
    "y = mnist.target\n"
   ]
  },
  {
   "cell_type": "code",
   "execution_count": 297,
   "metadata": {},
   "outputs": [
    {
     "data": {
      "image/png": "[encoded data removed]",
      "text/plain": [
       "<Figure size 432x288 with 1 Axes>"
      ]
     },
     "metadata": {
      "needs_background": "light"
     },
     "output_type": "display_data"
    }
   ],
   "source": [
    "# First row is first image\n",
    "first_image = X[0,:]\n",
    "first_label = y[0]\n",
    "\n",
    "# 784 columns correspond to 28x28 image\n",
    "plottable_image = np.reshape(first_image, (28, 28))\n",
    "\n",
    "# Plot the image\n",
    "plt.imshow(plottable_image, cmap='gray_r')\n",
    "plt.title('Digit Label: {}'.format(first_label))\n",
    "plt.show()"
   ]
  },
  {
   "cell_type": "code",
   "execution_count": 408,
   "metadata": {},
   "outputs": [
    {
     "data": {
      "text/plain": [
       "array([[0., 0., 0., ..., 0., 0., 0.],\n",
       "       [0., 0., 0., ..., 0., 0., 0.],\n",
       "       [0., 0., 0., ..., 0., 0., 0.],\n",
       "       ...,\n",
       "       [0., 0., 0., ..., 0., 0., 0.],\n",
       "       [0., 0., 0., ..., 0., 0., 0.],\n",
       "       [0., 0., 0., ..., 0., 0., 0.]])"
      ]
     },
     "execution_count": 408,
     "metadata": {},
     "output_type": "execute_result"
    }
   ],
   "source": [
    "mask3 = (y=='3')  \n",
    "mask7 = (y== '7')\n",
    "indices3 = np.where(mask3)\n",
    "indices7 = np.where(mask7)\n",
    "\n",
    "\n",
    "\n",
    "type(indices3)\n",
    "\n",
    "X7=X[indices7]\n",
    "X7"
   ]
  },
  {
   "cell_type": "code",
   "execution_count": 381,
   "metadata": {},
   "outputs": [
    {
     "data": {
      "image/png": "[encoded data removed]",
      "text/plain": [
       "<Figure size 720x720 with 10 Axes>"
      ]
     },
     "metadata": {
      "needs_background": "light"
     },
     "output_type": "display_data"
    }
   ],
   "source": [
    "fig, axes = plt.subplots(5,2, \n",
    "                         figsize=(10,10),\n",
    "                         sharex=True, sharey=True,\n",
    "                         subplot_kw=dict(adjustable='box-forced', aspect='equal'))\n",
    "\n",
    "\n",
    "test=[]\n",
    "i=0\n",
    "\n",
    "while len(test)<=9:\n",
    "    if format(y[i]) in test:\n",
    "            i+=1\n",
    "    else:\n",
    "        \n",
    "        image=np.reshape(X[i,:], (28, 28))\n",
    "        subplot_row = len(test)//2\n",
    "        subplot_col = len(test)%2\n",
    "        ax = axes[subplot_row, subplot_col]\n",
    "        ax.imshow(image, cmap='gray_r')\n",
    "        ax.set_title('Chiffre représenté: {}'.format(y[i]))\n",
    "        \n",
    "       \n",
    "        test.append(y[i])\n",
    "        i+=1\n"
   ]
  },
  {
   "cell_type": "code",
   "execution_count": 432,
   "metadata": {},
   "outputs": [],
   "source": [
    "\n",
    "from sklearn.linear_model import LogisticRegression"
   ]
  },
  {
   "cell_type": "code",
   "execution_count": 433,
   "metadata": {
    "scrolled": true
   },
   "outputs": [
    {
     "name": "stderr",
     "output_type": "stream",
     "text": [
      "C:\\Users\\julien\\Anaconda3\\lib\\site-packages\\sklearn\\linear_model\\logistic.py:433: FutureWarning: Default solver will be changed to 'lbfgs' in 0.22. Specify a solver to silence this warning.\n",
      "  FutureWarning)\n",
      "C:\\Users\\julien\\Anaconda3\\lib\\site-packages\\sklearn\\linear_model\\logistic.py:460: FutureWarning: Default multi_class will be changed to 'auto' in 0.22. Specify the multi_class option to silence this warning.\n",
      "  \"this warning.\", FutureWarning)\n"
     ]
    }
   ],
   "source": [
    "clf = LogisticRegression(fit_intercept=False).fit(X, y)"
   ]
  },
  {
   "cell_type": "code",
   "execution_count": 395,
   "metadata": {},
   "outputs": [
    {
     "data": {
      "text/plain": [
       "0.9283714285714286"
      ]
     },
     "execution_count": 395,
     "metadata": {},
     "output_type": "execute_result"
    }
   ],
   "source": [
    "clf.predict(X[:10, :])\n",
    "clf.score(X,y)"
   ]
  },
  {
   "cell_type": "code",
   "execution_count": 434,
   "metadata": {},
   "outputs": [
    {
     "data": {
      "text/plain": [
       "(10, 784)"
      ]
     },
     "execution_count": 434,
     "metadata": {},
     "output_type": "execute_result"
    }
   ],
   "source": [
    "clf.coef_.shape"
   ]
  },
  {
   "cell_type": "markdown",
   "metadata": {},
   "source": [
    "La commande clf.coef_ représente le vecteur $\\omega$ décrit dans l'énoncé. Il représente le vecteur appris par la méthode de regression logistique."
   ]
  },
  {
   "cell_type": "markdown",
   "metadata": {},
   "source": [
    "### Question 4"
   ]
  },
  {
   "cell_type": "markdown",
   "metadata": {},
   "source": [
    "Nous avons créé une fonction dans le fichier ${utils.py}$ permettant de représenter l'impact de la transformation de notre image par l'opération (1) en fonction de la valeur de $\\alpha$. Cette fonction est comentée afin d'expliquer son fonctionnement. Nous choisissons dans cet exemple de prendre une image associée au chiffre 7. Nous allons donc utiliser notre matrice X7 créée lors de la question 2 et ne possédant que les chiffres 7 de notre jeu de données initial. "
   ]
  },
  {
   "cell_type": "code",
   "execution_count": 567,
   "metadata": {
    "scrolled": false
   },
   "outputs": [
    {
     "data": {
      "image/png": "[encoded data removed]",
      "text/plain": [
       "<Figure size 432x288 with 1 Axes>"
      ]
     },
     "metadata": {
      "needs_background": "light"
     },
     "output_type": "display_data"
    },
    {
     "data": {
      "application/vnd.jupyter.widget-view+json": {
       "model_id": "67ab27d6a0064a44b09bf650453aa7d1",
       "version_major": 2,
       "version_minor": 0
      },
      "text/plain": [
       "interactive(children=(FloatSlider(value=50.00000000000001, description='alpha', min=0.1), Output()), _dom_clas…"
      ]
     },
     "metadata": {},
     "output_type": "display_data"
    },
    {
     "data": {
      "text/plain": [
       "<function __main__.fig_digit(alpha)>"
      ]
     },
     "execution_count": 567,
     "metadata": {},
     "output_type": "execute_result"
    }
   ],
   "source": [
    "fig_digit(0.1)\n",
    "\n",
    "ip.interact(fig_digit,alpha=(0.1,100,0.1))\n",
    "\n"
   ]
  },
  {
   "cell_type": "code",
   "execution_count": 559,
   "metadata": {},
   "outputs": [
    {
     "data": {
      "image/png": "[encoded data removed]",
      "text/plain": [
       "<Figure size 432x288 with 1 Axes>"
      ]
     },
     "metadata": {
      "needs_background": "light"
     },
     "output_type": "display_data"
    }
   ],
   "source": [
    "fig_digit(10000);"
   ]
  },
  {
   "cell_type": "markdown",
   "metadata": {},
   "source": [
    "### Question 5"
   ]
  },
  {
   "cell_type": "markdown",
   "metadata": {},
   "source": [
    "Nous souhaitons maintenant réaliser un film représentant l'évolution de notre image en fonction de lavaleur $\\alpha$."
   ]
  },
  {
   "cell_type": "code",
   "execution_count": null,
   "metadata": {},
   "outputs": [],
   "source": []
  },
  {
   "cell_type": "code",
   "execution_count": null,
   "metadata": {},
   "outputs": [],
   "source": []
  },
  {
   "cell_type": "markdown",
   "metadata": {},
   "source": [
    "### Question 6"
   ]
  },
  {
   "cell_type": "code",
   "execution_count": null,
   "metadata": {},
   "outputs": [],
   "source": []
  },
  {
   "cell_type": "code",
   "execution_count": null,
   "metadata": {},
   "outputs": [],
   "source": []
  },
  {
   "cell_type": "markdown",
   "metadata": {},
   "source": [
    "### Question 7"
   ]
  }
 ],
 "metadata": {
  "kernelspec": {
   "display_name": "Python 3",
   "language": "python",
   "name": "python3"
  },
  "language_info": {
   "codemirror_mode": {
    "name": "ipython",
    "version": 3
   },
   "file_extension": ".py",
   "mimetype": "text/x-python",
   "name": "python",
   "nbconvert_exporter": "python",
   "pygments_lexer": "ipython3",
   "version": "3.7.3"
  }
 },
 "nbformat": 4,
 "nbformat_minor": 2
}
