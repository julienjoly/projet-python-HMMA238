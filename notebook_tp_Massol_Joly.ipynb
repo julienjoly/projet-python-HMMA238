{
 "cells": [
  {
   "cell_type": "markdown",
   "metadata": {},
   "source": [
    "# TP noté HMMA238\n",
    "\n",
    "\n",
    "\n",
    "## Exercice 1: Le jeu de la vie\n",
    "\n",
    "\n",
    "## Partie I : Implémentation sans numpy\n",
    "\n"
   ]
  },
  {
   "cell_type": "markdown",
   "metadata": {},
   "source": [
    "La première chose à faire est de charger toutes les fonctions que nous avons créer et que nous allons utiliser dans ce compte rendu de TP."
   ]
  },
  {
   "cell_type": "code",
   "execution_count": 1,
   "metadata": {},
   "outputs": [
    {
     "ename": "SyntaxError",
     "evalue": "invalid syntax (<ipython-input-1-66831aa30451>, line 5)",
     "output_type": "error",
     "traceback": [
      "\u001b[1;36m  File \u001b[1;32m\"<ipython-input-1-66831aa30451>\"\u001b[1;36m, line \u001b[1;32m5\u001b[0m\n\u001b[1;33m    x_mod = X7[0] -\u001b[0m\n\u001b[1;37m                   ^\u001b[0m\n\u001b[1;31mSyntaxError\u001b[0m\u001b[1;31m:\u001b[0m invalid syntax\n"
     ]
    }
   ],
   "source": [
    "run utils.py.ipynb\n"
   ]
  },
  {
   "cell_type": "markdown",
   "metadata": {},
   "source": [
    "### Question 4"
   ]
  },
  {
   "cell_type": "code",
   "execution_count": 2,
   "metadata": {},
   "outputs": [
    {
     "data": {
      "text/plain": [
       "[[0, 0, 0, 0, 0, 0],\n",
       " [0, 1, 3, 1, 2, 0],\n",
       " [0, 1, 5, 3, 3, 0],\n",
       " [0, 2, 3, 2, 2, 0],\n",
       " [0, 1, 2, 2, 1, 0],\n",
       " [0, 0, 0, 0, 0, 0]]"
      ]
     },
     "execution_count": 2,
     "metadata": {},
     "output_type": "execute_result"
    }
   ],
   "source": [
    "Z = [[0,0,0,0,0,0],\n",
    "[0,0,0,1,0,0],\n",
    "[0,1,0,1,0,0],\n",
    "[0,0,1,1,0,0],\n",
    "[0,0,0,0,0,0],\n",
    "[0,0,0,0,0,0]]\n",
    "\n",
    "N=calcul_nb_voisins(Z)\n",
    "N"
   ]
  },
  {
   "cell_type": "markdown",
   "metadata": {},
   "source": [
    "La sortie de cette fonction calcule le nombre de voisins vivants de chaque cellule sous forme d'une liste représentant le plateau de jeu."
   ]
  },
  {
   "cell_type": "markdown",
   "metadata": {},
   "source": [
    " Nous allons maintenant décrire et expliciter le fonctionnement et le but de la fonction iteration jeu qui nous a été fournie."
   ]
  },
  {
   "cell_type": "code",
   "execution_count": 3,
   "metadata": {},
   "outputs": [
    {
     "data": {
      "text/plain": [
       "'Nous récupérons notre matrice du jeu de la vie au tour n+1'"
      ]
     },
     "execution_count": 3,
     "metadata": {},
     "output_type": "execute_result"
    }
   ],
   "source": [
    "\"Nous donnonscomme argument notre matrice du jeu de la vie à un tour n\"\n",
    "\n",
    "def iteration_jeu(Z):\n",
    "    \n",
    "    forme = len(Z), len(Z[0])\n",
    "    N = calcul_nb_voisins(Z)\n",
    "    for x in range(1,forme[0]-1):\n",
    "        for y in range(1,forme[1]-1):\n",
    "            \"conditions de mort puis de naissance\"\n",
    "            if Z[x][y] == 1 and (N[x][y] < 2 or N[x][y] > 3):\n",
    "                Z[x][y] = 0\n",
    "            \n",
    "            elif Z[x][y] == 0 and N[x][y] == 3:\n",
    "                Z[x][y] = 1\n",
    "    return Z\n",
    "\"Nous récupérons notre matrice du jeu de la vie au tour n+1\""
   ]
  },
  {
   "cell_type": "markdown",
   "metadata": {},
   "source": [
    "### Question 5"
   ]
  },
  {
   "cell_type": "markdown",
   "metadata": {},
   "source": [
    "Cette fonction permet de réaliser un tour du jeu de la vie à partir des valeurs du tour précédent (Z) et de la fonction calcul_nb_voisins. Cette fonction modifie directement  notre liste Z avec la mise à jour des cellules : soit la cellule survie, soit la cellule périt."
   ]
  },
  {
   "cell_type": "code",
   "execution_count": 4,
   "metadata": {
    "scrolled": true
   },
   "outputs": [
    {
     "data": {
      "image/png": "[encoded data removed]",
      "text/plain": [
       "<Figure size 432x288 with 10 Axes>"
      ]
     },
     "metadata": {
      "needs_background": "light"
     },
     "output_type": "display_data"
    }
   ],
   "source": [
    "import matplotlib.pyplot as plt\n",
    "import numpy as np\n",
    "\n",
    "Z2=list(Z)\n",
    "\n",
    "plt.subplot(2,5,1)\n",
    "plt.imshow(np.asarray(Z2))\n",
    "\n",
    "for i in range(2,11):\n",
    "    Z=iteration_jeu(Z2)\n",
    "    plt.subplot(2,5,i)\n",
    "    plt.imshow(np.asarray(Z2))"
   ]
  },
  {
   "cell_type": "markdown",
   "metadata": {},
   "source": [
    "### Question 6"
   ]
  },
  {
   "cell_type": "markdown",
   "metadata": {},
   "source": [
    "Entre l'itération 0 et 4, nous remarquons que plusieurs cellules vivent et meurt à chaque itération, cependant le nombre de cellules vivantes reste inchangé (au nombre de 5) à chaque fin de tour.  \n",
    "À partir de l'itération 7 et ce jusqu'à l'itération 9, nous remarquons que le jeu est à l'équilibre. En effet, plus aucune cellule ne meurt ou ne naît. Cet équilibre se maintiendra peut importe le nombre de tour que nous réaliseront, le jeu est alors terminé, plus aucune évolution n'étant possible."
   ]
  },
  {
   "cell_type": "markdown",
   "metadata": {},
   "source": [
    "## Partie II : Implémentation avec numba"
   ]
  },
  {
   "cell_type": "markdown",
   "metadata": {},
   "source": [
    "### Question 7"
   ]
  },
  {
   "cell_type": "markdown",
   "metadata": {},
   "source": [
    "Dans cette question nous cherchons à savoir si le fait d'optimiser notre fonction iteration_jeu_nb avec la fonction jit va nous faire gagner du temps ou non."
   ]
  },
  {
   "cell_type": "markdown",
   "metadata": {},
   "source": [
    "Nous commençons par importer les packages nécessaire à cette questions. "
   ]
  },
  {
   "cell_type": "code",
   "execution_count": 5,
   "metadata": {},
   "outputs": [],
   "source": [
    "import time\n",
    "from numba import jit"
   ]
  },
  {
   "cell_type": "markdown",
   "metadata": {},
   "source": [
    "Nous commençons par définir une nouvelle fonction iteration_jeu_nb_V2 qui est la même que iteration_jeu_nb avec un nom différent afin de pouvoir en conserver une non optimisée. Nous appliquons alors jit à cette nouvelle fonction."
   ]
  },
  {
   "cell_type": "code",
   "execution_count": 6,
   "metadata": {},
   "outputs": [],
   "source": [
    "@jit\n",
    "def iteration_jeu_nb_V2(Z, n):\n",
    "    affichage = (n // 2) + 1\n",
    "    Z2 = np.asarray(list(Z))\n",
    "    plt.subplot(affichage, 2, 1)\n",
    "    plt.imshow(np.asarray(Z2))\n",
    "    for i in range(2, n + 2):\n",
    "        Z = iteration_jeu(Z2)\n",
    "        plt.subplot(affichage, 2, i)\n",
    "        plt.imshow(Z2)\n",
    "    return Z2\n"
   ]
  },
  {
   "cell_type": "markdown",
   "metadata": {},
   "source": [
    "Tout d'abord, pour nous rendre compte qu'il existe une différence entre la première utilisation d'une fonction optimisée par jit puis après son optimisation, nous avons écrit le code ci-dessous."
   ]
  },
  {
   "cell_type": "code",
   "execution_count": 7,
   "metadata": {},
   "outputs": [
    {
     "name": "stdout",
     "output_type": "stream",
     "text": [
      "Temps écoulé avec la compilation de jit = 1.595508337020874\n",
      "Temps écoulé après la compilation de jit = 0.05932903289794922\n"
     ]
    },
    {
     "name": "stderr",
     "output_type": "stream",
     "text": [
      "C:\\Users\\julien\\Anaconda3\\lib\\site-packages\\matplotlib\\figure.py:98: MatplotlibDeprecationWarning: \n",
      "Adding an axes using the same arguments as a previous axes currently reuses the earlier instance.  In a future version, a new instance will always be created and returned.  Meanwhile, this warning can be suppressed, and the future behavior ensured, by passing a unique label to each axes instance.\n",
      "  \"Adding an axes using the same arguments as a previous axes \"\n"
     ]
    },
    {
     "data": {
      "image/png": "[encoded data removed]",
      "text/plain": [
       "<Figure size 432x288 with 11 Axes>"
      ]
     },
     "metadata": {
      "needs_background": "light"
     },
     "output_type": "display_data"
    }
   ],
   "source": [
    "start = time.time()\n",
    "iteration_jeu_nb_V2(Z, 10)\n",
    "end = time.time()\n",
    "print(\"Temps écoulé avec la compilation de jit = %s\" % (end - start))\n",
    "\n",
    "\n",
    "start = time.time()\n",
    "iteration_jeu_nb_V2(Z, 10)\n",
    "end = time.time()\n",
    "print(\"Temps écoulé après la compilation de jit = %s\" % (end - start))\n"
   ]
  },
  {
   "cell_type": "markdown",
   "metadata": {},
   "source": [
    "Ceci est une fonction permettant de calculer la différence de temps de calcul de la foncyion iteration_jeu_nb avant optimisation jit, pendanr puis après. Cet algorithme s'inspire d'un exemple d'utilisation réalisé en cours. Il est intéressant car il permet de comparer les différents temps de compilation suivant la version de notre fonction,et d'en faire une moyenne suivant le nombre d'itération voulue."
   ]
  },
  {
   "cell_type": "code",
   "execution_count": 8,
   "metadata": {},
   "outputs": [
    {
     "name": "stdout",
     "output_type": "stream",
     "text": [
      "Améliorations en pourcentage par rapport au code vanilla\n",
      "930.3345917545604\n",
      "-0.9667146555612467\n"
     ]
    },
    {
     "data": {
      "image/png": "[encoded data removed]",
      "text/plain": [
       "<Figure size 432x288 with 70 Axes>"
      ]
     },
     "metadata": {
      "needs_background": "light"
     },
     "output_type": "display_data"
    }
   ],
   "source": [
    "t0 = []\n",
    "t1 = []\n",
    "t2 = []\n",
    "n = 70\n",
    "\n",
    "for i in range(1, n):\n",
    "    @jit\n",
    "    def iteration_jeu_nb_optijit(Z, n):\n",
    "        affichage = (n // 5) + 1\n",
    "        Z2 = np.asarray(list(Z))\n",
    "        plt.subplot(affichage, 5, 1)\n",
    "        plt.imshow(np.asarray(Z2))\n",
    "        for i in range(2, n + 2):\n",
    "            Z = iteration_jeu(Z2)\n",
    "            plt.subplot(affichage, 5, i)\n",
    "            plt.imshow(Z2)\n",
    "        return Z2\n",
    "\n",
    "    start = time.time()\n",
    "    iteration_jeu_nb_optijit(Z, i)\n",
    "    end = time.time()\n",
    "    t0.append(end - start)\n",
    "\n",
    "    # COMPILATION NON INCLUSE, EXECUTER DEPUIS LE CACHE\n",
    "    start = time.time()\n",
    "    iteration_jeu_nb_optijit(Z, i)\n",
    "    end = time.time()\n",
    "    t1.append(end - start)\n",
    "\n",
    "    # VANILLA PYTHON\n",
    "    start = time.time()\n",
    "    iteration_jeu_nb(Z, i)\n",
    "    end = time.time()\n",
    "    t2.append(end - start)\n",
    "\n",
    "\n",
    "t0 = sum(t0) / len(t0)\n",
    "t1 = sum(t1) / len(t1)\n",
    "t2 = sum(t2) / len(t2)\n",
    "\n",
    "print(\"Améliorations en pourcentage par rapport au code vanilla\")\n",
    "\n",
    "print((t0 - t2) / t2 * 100)\n",
    "print((t1 - t2) / t2 * 100)\n"
   ]
  },
  {
   "cell_type": "markdown",
   "metadata": {},
   "source": [
    "### Question 8\n",
    "\n"
   ]
  },
  {
   "cell_type": "markdown",
   "metadata": {},
   "source": [
    "Nous définissons la matrice Z_huge comme présentée dans l'énoncé."
   ]
  },
  {
   "cell_type": "code",
   "execution_count": null,
   "metadata": {},
   "outputs": [],
   "source": [
    "Z_huge = np.zeros((50, 50))\n",
    "Z_np = np.array(\n",
    "[[0, 0, 0, 0, 0, 0],\n",
    "[0, 0, 0, 1, 0, 0],\n",
    "[0, 1, 0, 1, 0, 0],\n",
    "[0, 0, 1, 1, 0, 0],\n",
    "[0, 0, 0, 0, 0, 0],\n",
    "[0, 0, 0, 0, 0, 0]])\n",
    "Z_huge[8:14, 8:14] = Z_np\n"
   ]
  },
  {
   "cell_type": "markdown",
   "metadata": {},
   "source": [
    "Nous avons défini une fonction permettant d'itérer n tours du jeu de la vie vec comme matrice de départ Z_huge et qui nous renvoie la matrice ainsi obtenue.\n",
    "Nous utilisons cette fonction nouvellement défini afin de réaliser un widget permettant de nous afficher le plateau du jeu de la vie au tour n."
   ]
  },
  {
   "cell_type": "code",
   "execution_count": null,
   "metadata": {},
   "outputs": [
    {
     "data": {
      "application/vnd.jupyter.widget-view+json": {
       "model_id": "da86a2c54ba44c19984b9f7253f8dd3b",
       "version_major": 2,
       "version_minor": 0
      },
      "text/plain": [
       "interactive(children=(IntSlider(value=85, description='n', max=170, min=1), Output()), _dom_classes=('widget-i…"
      ]
     },
     "metadata": {},
     "output_type": "display_data"
    },
    {
     "data": {
      "text/plain": [
       "<function __main__.iteration_jeu_Z_huge(n)>"
      ]
     },
     "execution_count": 10,
     "metadata": {},
     "output_type": "execute_result"
    }
   ],
   "source": [
    "ip.interact(iteration_jeu_Z_huge, n=(1, 170, 1))\n"
   ]
  },
  {
   "cell_type": "markdown",
   "metadata": {},
   "source": [
    "En faisant varier le nombre de tours, nous remarquons que le jeu se retrouve à l'équilibre lorsque nous atteignons le tour 133."
   ]
  },
  {
   "cell_type": "markdown",
   "metadata": {},
   "source": [
    "# Exercice II"
   ]
  },
  {
   "cell_type": "markdown",
   "metadata": {},
   "source": [
    "Cette exercice va porter sur l'étude du jeu de données MNIST qui est un jeu de données d'images sur lesquelles des chiffres sont écrits en version manuscrite. Notre but ici est de se familiariser avec cejeu de données et d'effectuer plusieurs manipulation avec python pour en apprendre plus dessus."
   ]
  },
  {
   "cell_type": "code",
   "execution_count": null,
   "metadata": {
    "scrolled": true
   },
   "outputs": [],
   "source": [
    "from sklearn.datasets import fetch_openml\n"
   ]
  },
  {
   "cell_type": "code",
   "execution_count": null,
   "metadata": {},
   "outputs": [],
   "source": [
    "mnist = fetch_openml('mnist_784')\n",
    "X = mnist.data.astype('float64')\n",
    "y = mnist.target\n"
   ]
  },
  {
   "cell_type": "code",
   "execution_count": null,
   "metadata": {},
   "outputs": [
    {
     "data": {
      "text/plain": [
       "array([[0., 0., 0., ..., 0., 0., 0.],\n",
       "       [0., 0., 0., ..., 0., 0., 0.],\n",
       "       [0., 0., 0., ..., 0., 0., 0.],\n",
       "       ...,\n",
       "       [0., 0., 0., ..., 0., 0., 0.],\n",
       "       [0., 0., 0., ..., 0., 0., 0.],\n",
       "       [0., 0., 0., ..., 0., 0., 0.]])"
      ]
     },
     "execution_count": 13,
     "metadata": {},
     "output_type": "execute_result"
    }
   ],
   "source": [
    "mask3 = (y=='3')  \n",
    "mask7 = (y== '7')\n",
    "indices3 = np.where(mask3)\n",
    "indices7 = np.where(mask7)\n",
    "\n",
    "\n",
    "\n",
    "type(indices3)\n",
    "\n",
    "X7=X[indices7]\n",
    "X7"
   ]
  },
  {
   "cell_type": "code",
   "execution_count": null,
   "metadata": {},
   "outputs": [
    {
     "data": {
      "image/png": "[encoded data removed]",
      "text/plain": [
       "<Figure size 720x720 with 10 Axes>"
      ]
     },
     "metadata": {
      "needs_background": "light"
     },
     "output_type": "display_data"
    }
   ],
   "source": [
    "fig, axes = plt.subplots(5, 2,\n",
    "                         figsize=(10, 10),\n",
    "                         sharex=True, sharey=True)\n",
    "test = []\n",
    "i = 0\n",
    "\n",
    "while len(test) <= 9:\n",
    "    if format(y[i]) in test:\n",
    "            i += 1\n",
    "    else:\n",
    "        image = np.reshape(X[i, :], (28, 28))\n",
    "        subplot_row = len(test) // 2\n",
    "        subplot_col = len(test) % 2\n",
    "        ax = axes[subplot_row, subplot_col]\n",
    "        ax.imshow(image, cmap='gray_r')\n",
    "        ax.set_title('Chiffre représenté: {}'.format(y[i]))\n",
    "        test.append(y[i])\n",
    "        i += 1\n"
   ]
  },
  {
   "cell_type": "code",
   "execution_count": null,
   "metadata": {},
   "outputs": [],
   "source": [
    "from sklearn.linear_model import LogisticRegression\n"
   ]
  },
  {
   "cell_type": "code",
   "execution_count": null,
   "metadata": {
    "scrolled": true
   },
   "outputs": [
    {
     "name": "stderr",
     "output_type": "stream",
     "text": [
      "C:\\Users\\julien\\Anaconda3\\lib\\site-packages\\sklearn\\linear_model\\logistic.py:433: FutureWarning: Default solver will be changed to 'lbfgs' in 0.22. Specify a solver to silence this warning.\n",
      "  FutureWarning)\n",
      "C:\\Users\\julien\\Anaconda3\\lib\\site-packages\\sklearn\\linear_model\\logistic.py:460: FutureWarning: Default multi_class will be changed to 'auto' in 0.22. Specify the multi_class option to silence this warning.\n",
      "  \"this warning.\", FutureWarning)\n"
     ]
    }
   ],
   "source": [
    "clf = LogisticRegression(fit_intercept=False).fit(X, y)\n"
   ]
  },
  {
   "cell_type": "code",
   "execution_count": null,
   "metadata": {},
   "outputs": [],
   "source": [
    "clf.predict(X[:10, :])\n",
    "clf.score(X,y)"
   ]
  },
  {
   "cell_type": "code",
   "execution_count": null,
   "metadata": {},
   "outputs": [],
   "source": [
    "clf.coef_.shape"
   ]
  },
  {
   "cell_type": "markdown",
   "metadata": {},
   "source": [
    "La commande clf.coef_ représente le vecteur $\\omega$ décrit dans l'énoncé. Il représente le vecteur appris par la méthode de regression logistique."
   ]
  },
  {
   "cell_type": "markdown",
   "metadata": {},
   "source": [
    "### Question 4"
   ]
  },
  {
   "cell_type": "markdown",
   "metadata": {},
   "source": [
    "Nous avons créé une fonction dans le fichier ${utils.py}$ permettant de représenter l'impact de la transformation de notre image par l'opération (1) en fonction de la valeur de $\\alpha$. Cette fonction est comentée afin d'expliquer son fonctionnement. Nous choisissons dans cet exemple de prendre une image associée au chiffre 7. Nous allons donc utiliser notre matrice X7 créée lors de la question 2 et ne possédant que les chiffres 7 de notre jeu de données initial. "
   ]
  },
  {
   "cell_type": "code",
   "execution_count": null,
   "metadata": {
    "scrolled": false
   },
   "outputs": [],
   "source": [
    "fig_digit(0.1)\n",
    "ip.interact(fig_digit, alpha=(0.1, 100, 0.1))\n"
   ]
  },
  {
   "cell_type": "code",
   "execution_count": null,
   "metadata": {},
   "outputs": [],
   "source": [
    "fig_digit(10000);"
   ]
  },
  {
   "cell_type": "markdown",
   "metadata": {},
   "source": [
    "### Question 5"
   ]
  },
  {
   "cell_type": "markdown",
   "metadata": {},
   "source": [
    "Nous souhaitons maintenant réaliser un film représentant l'évolution de notre image en fonction de lavaleur $\\alpha$."
   ]
  },
  {
   "cell_type": "code",
   "execution_count": null,
   "metadata": {},
   "outputs": [],
   "source": [
    "from matplotlib import animation\n"
   ]
  },
  {
   "cell_type": "code",
   "execution_count": null,
   "metadata": {},
   "outputs": [],
   "source": []
  },
  {
   "cell_type": "markdown",
   "metadata": {},
   "source": [
    "### Question 6"
   ]
  },
  {
   "cell_type": "markdown",
   "metadata": {},
   "source": [
    "La vaiable alpha permet de "
   ]
  },
  {
   "cell_type": "code",
   "execution_count": null,
   "metadata": {},
   "outputs": [],
   "source": []
  },
  {
   "cell_type": "markdown",
   "metadata": {},
   "source": [
    "### Question 7"
   ]
  },
  {
   "cell_type": "markdown",
   "metadata": {},
   "source": [
    "Nous voulons maintenant réaliser une ACP (analyse en composante principale)"
   ]
  },
  {
   "cell_type": "code",
   "execution_count": null,
   "metadata": {},
   "outputs": [],
   "source": [
    "from sklearn.decomposition import PCA, IncrementalPCA\n"
   ]
  },
  {
   "cell_type": "code",
   "execution_count": null,
   "metadata": {
    "scrolled": true
   },
   "outputs": [],
   "source": [
    "n_components = 10\n",
    "ipca = IncrementalPCA(n_components=n_components, batch_size=10)\n",
    "X_ipca = ipca.fit_transform(X)"
   ]
  },
  {
   "cell_type": "code",
   "execution_count": null,
   "metadata": {},
   "outputs": [],
   "source": [
    "pca = PCA(n_components=n_components)\n",
    "X_pca = pca.fit_transform(X)\n",
    "colors = ['darkmagenta','navy', 'turquoise', 'darkorange', \n",
    "          'purple', 'red', 'magenta', 'cyan', 'yellow', 'black',  ]\n",
    "target_names=[0, 1, 2, 3, 4, 5, 6, 7, 8, 9] \n",
    "\n",
    "for X_transformed, title in [(X_ipca, \"Incremental PCA\"), (X_pca, \"PCA\")]:\n",
    "    plt.figure(figsize=(8, 8))\n",
    "    for color, i, target_name in zip(colors, ['0', '1', '2', '3', '4', '5', '6', '7', '8', '9'], target_names):\n",
    "        plt.scatter(X_transformed[y == i, 0], X_transformed[y == i, 1],\n",
    "                    color=color, lw=2, label=target_name)\n",
    "\n",
    "    if \"Incremental\" in title:\n",
    "        err = np.abs(np.abs(X_pca) - np.abs(X_ipca)).mean()\n",
    "        plt.title(title + \" of MNIST dataset\\nMean absolute unsigned error \"\n",
    "                  \"%.6f\" % err)\n",
    "    else:\n",
    "        plt.title(title + \" of MNISTdataset\")\n",
    "    plt.legend(loc=\"best\", shadow=False, scatterpoints=1)\n",
    "    plt.axis([-20015, 20015, -5000 , 5000])\n",
    "\n",
    "plt.show()\n"
   ]
  },
  {
   "cell_type": "code",
   "execution_count": null,
   "metadata": {},
   "outputs": [],
   "source": []
  }
 ],
 "metadata": {
  "kernelspec": {
   "display_name": "Python 3",
   "language": "python",
   "name": "python3"
  },
  "language_info": {
   "codemirror_mode": {
    "name": "ipython",
    "version": 3
   },
   "file_extension": ".py",
   "mimetype": "text/x-python",
   "name": "python",
   "nbconvert_exporter": "python",
   "pygments_lexer": "ipython3",
   "version": "3.7.3"
  }
 },
 "nbformat": 4,
 "nbformat_minor": 2
}
