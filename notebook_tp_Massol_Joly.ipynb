{
 "cells": [
  {
   "cell_type": "markdown",
   "metadata": {},
   "source": [
    "# TP noté HMMA238\n",
    "\n"
   ]
  },
  {
   "cell_type": "markdown",
   "metadata": {},
   "source": [
    "La première chose à faire est de charger toutes les fonctions que nous avons créées et que nous allons utiliser dans ce compte rendu de TP. Nous avons stocké ces fonctions dans un fichier nommé utils.py."
   ]
  },
  {
   "cell_type": "code",
   "execution_count": 2,
   "metadata": {},
   "outputs": [],
   "source": [
    "run utils.py.ipynb\n"
   ]
  },
  {
   "cell_type": "markdown",
   "metadata": {},
   "source": [
    "## Exercice 1: Le jeu de la vie\n",
    "\n",
    "\n",
    "## Partie I : Implémentation sans numpy\n"
   ]
  },
  {
   "cell_type": "markdown",
   "metadata": {},
   "source": [
    "### Question 4"
   ]
  },
  {
   "cell_type": "markdown",
   "metadata": {},
   "source": [
    "Nous commençons par définir comme dans l'énoncé notre matrice de départ, représentant le plateau du jeu au tour 0, appelé Z."
   ]
  },
  {
   "cell_type": "code",
   "execution_count": 3,
   "metadata": {},
   "outputs": [
    {
     "data": {
      "text/plain": [
       "[[0, 0, 0, 0, 0, 0],\n",
       " [0, 1, 3, 1, 2, 0],\n",
       " [0, 1, 5, 3, 3, 0],\n",
       " [0, 2, 3, 2, 2, 0],\n",
       " [0, 1, 2, 2, 1, 0],\n",
       " [0, 0, 0, 0, 0, 0]]"
      ]
     },
     "execution_count": 3,
     "metadata": {},
     "output_type": "execute_result"
    }
   ],
   "source": [
    "Z = [[0,0,0,0,0,0],\n",
    "[0,0,0,1,0,0],\n",
    "[0,1,0,1,0,0],\n",
    "[0,0,1,1,0,0],\n",
    "[0,0,0,0,0,0],\n",
    "[0,0,0,0,0,0]]\n",
    "\n",
    "N=calcul_nb_voisins(Z)\n",
    "N"
   ]
  },
  {
   "cell_type": "markdown",
   "metadata": {},
   "source": [
    "La sortie de cette fonction calcule le nombre de voisins vivants de chaque cellule sous forme d'une liste représentant le plateau de jeu."
   ]
  },
  {
   "cell_type": "markdown",
   "metadata": {},
   "source": [
    " Nous allons maintenant décrire et expliciter le fonctionnement et le but de la fonction itération jeu qui nous a été fournie."
   ]
  },
  {
   "cell_type": "code",
   "execution_count": 4,
   "metadata": {},
   "outputs": [],
   "source": [
    "# Nous donnons comme argument notre matrice du jeu de la vie à un tour n\n",
    "def iteration_jeu(Z):\n",
    "    forme = len(Z), len(Z[0])\n",
    "    N = calcul_nb_voisins(Z)\n",
    "    for x in range(1, forme[0]-1):\n",
    "        for y in range(1, forme[1]-1):\n",
    "            # conditions de mort puis de naissance\n",
    "            if Z[x][y] == 1 and (N[x][y] < 2 or N[x][y] > 3):\n",
    "                Z[x][y] = 0\n",
    "\n",
    "            elif Z[x][y] == 0 and N[x][y] == 3:\n",
    "                Z[x][y] = 1\n",
    "    return Z\n",
    "# Nous récupérons notre matrice du jeu de la vie au tour n + 1\n"
   ]
  },
  {
   "cell_type": "markdown",
   "metadata": {},
   "source": [
    "### Question 5"
   ]
  },
  {
   "cell_type": "markdown",
   "metadata": {},
   "source": [
    "Cette fonction permet de réaliser un tour du jeu de la vie à partir des valeurs du tour précédent (Z) et de la fonction calcul_nb_voisins. Cette fonction modifie directement  notre liste Z avec la mise à jour des cellules : soit la cellule survie, soit la cellule périt."
   ]
  },
  {
   "cell_type": "code",
   "execution_count": 5,
   "metadata": {
    "scrolled": true
   },
   "outputs": [
    {
     "data": {
      "image/png": "[encoded data removed]",
      "text/plain": [
       "<Figure size 432x288 with 10 Axes>"
      ]
     },
     "metadata": {
      "needs_background": "light"
     },
     "output_type": "display_data"
    }
   ],
   "source": [
    "import matplotlib.pyplot as plt\n",
    "import numpy as np\n",
    "\n",
    "Z2 = list(Z)\n",
    "\n",
    "plt.subplot(2, 5, 1)\n",
    "plt.imshow(np.asarray(Z2))\n",
    "\n",
    "for i in range(2, 11):\n",
    "    Z = iteration_jeu(Z2)\n",
    "    plt.subplot(2, 5, i)\n",
    "    plt.imshow(np.asarray(Z2))\n"
   ]
  },
  {
   "cell_type": "markdown",
   "metadata": {},
   "source": [
    "### Question 6"
   ]
  },
  {
   "cell_type": "markdown",
   "metadata": {},
   "source": [
    "Entre l'itération 0 et 4, nous remarquons que plusieurs cellules vivent et meurent à chaque itération, cependant le nombre de cellules vivantes reste inchangé (au nombre de 5) à chaque fin de tour.  \n",
    "À partir de l'itération 7 et ce jusqu'à l'itération 9, nous remarquons que le jeu est à l'équilibre. En effet, plus aucune cellule ne meurt ou ne naît. Cet équilibre se maintiendra peut importe le nombre de tours que nous réaliseront, le jeu est alors terminé, plus aucune évolution n'étant possible."
   ]
  },
  {
   "cell_type": "markdown",
   "metadata": {},
   "source": [
    "## Partie II : Implémentation avec numba"
   ]
  },
  {
   "cell_type": "markdown",
   "metadata": {},
   "source": [
    "### Question 7"
   ]
  },
  {
   "cell_type": "markdown",
   "metadata": {},
   "source": [
    "Dans cette question nous cherchons à savoir si le fait d'optimiser notre fonction iteration_jeu_nb avec la fonction jit va nous faire gagner du temps ou non."
   ]
  },
  {
   "cell_type": "markdown",
   "metadata": {},
   "source": [
    "Nous commençons par importer les packages nécessaires à cette question. "
   ]
  },
  {
   "cell_type": "code",
   "execution_count": 6,
   "metadata": {},
   "outputs": [],
   "source": [
    "import time\n",
    "from numba import jit\n"
   ]
  },
  {
   "cell_type": "markdown",
   "metadata": {},
   "source": [
    "Nous commençons par définir une nouvelle fonction iteration_jeu_nb_V2 qui est la même que iteration_jeu_nb avec un nom différent afin de pouvoir en conserver une non optimisée. Nous appliquons alors jit à cette nouvelle fonction."
   ]
  },
  {
   "cell_type": "code",
   "execution_count": 7,
   "metadata": {},
   "outputs": [],
   "source": [
    "@jit\n",
    "def iteration_jeu_nb_V2(Z, n):\n",
    "    affichage = (n // 2) + 1\n",
    "    Z2 = np.asarray(list(Z))\n",
    "    plt.subplot(affichage, 2, 1)\n",
    "    plt.imshow(np.asarray(Z2))\n",
    "    for i in range(2, n + 2):\n",
    "        Z = iteration_jeu(Z2)\n",
    "        plt.subplot(affichage, 2, i)\n",
    "        plt.imshow(Z2)\n",
    "    return Z2\n"
   ]
  },
  {
   "cell_type": "markdown",
   "metadata": {},
   "source": [
    "Tout d'abord, pour nous rendre compte qu'il existe une différence entre la première utilisation d'une fonction optimisée par jit puis après son optimisation, nous avons écrit le code ci-dessous représentant la différence de vitesse de compilation au tour 3."
   ]
  },
  {
   "cell_type": "code",
   "execution_count": 41,
   "metadata": {
    "scrolled": true
   },
   "outputs": [
    {
     "name": "stdout",
     "output_type": "stream",
     "text": [
      "Temps écoulé avec la compilation de jit = 0.05198168754577637\n",
      "Temps écoulé après la compilation de jit = 0.002997159957885742\n"
     ]
    },
    {
     "data": {
      "image/png": "[encoded data removed]",
      "text/plain": [
       "<Figure size 432x288 with 4 Axes>"
      ]
     },
     "metadata": {
      "needs_background": "light"
     },
     "output_type": "display_data"
    }
   ],
   "source": [
    "start = time.time()\n",
    "iteration_jeu_nb_V2(Z, 3)\n",
    "end = time.time()\n",
    "print(\"Temps écoulé avec la compilation de jit = %s\" % (end - start))\n",
    "\n",
    "\n",
    "start2 = time.time()\n",
    "iteration_jeu_nb_V2(Z, 3)\n",
    "end2 = time.time()\n",
    "print(\"Temps écoulé après la compilation de jit = %s\" % (end2 - start2))\n"
   ]
  },
  {
   "cell_type": "markdown",
   "metadata": {},
   "source": [
    "Ceci est une fonction permettant de calculer la différence de temps de calcul de la fonction iteration_jeu_nb avant optimisation jit, pendant puis après. Cet algorithme s'inspire d'un exemple d'utilisation réalisé en cours. Il est intéressant car il permet de comparer les différents temps de compilation suivant la version de notre fonction, et d'en faire une moyenne suivant le nombre d'itérations voulues."
   ]
  },
  {
   "cell_type": "code",
   "execution_count": 40,
   "metadata": {
    "scrolled": true
   },
   "outputs": [
    {
     "name": "stdout",
     "output_type": "stream",
     "text": [
      "Différence de temps de compilation entre la fonction originale et celle compilant jit pour chaque tour \n",
      "[0.32182598 0.33680487 0.25685239 0.26183701 0.3867631  0.28284979]\n",
      "Différence de temps de compilation entre la fonction originale et celle optimisée par jit pour chaque tour (sans compilation)\n",
      "[2.00200081e-03 2.38418579e-07 9.99689102e-04 2.38418579e-07\n",
      " 9.85622406e-04 4.76837158e-07]\n"
     ]
    },
    {
     "data": {
      "image/png": "[encoded data removed]",
      "text/plain": [
       "<Figure size 432x288 with 7 Axes>"
      ]
     },
     "metadata": {
      "needs_background": "light"
     },
     "output_type": "display_data"
    }
   ],
   "source": [
    "# Nous définissons nos variables de stockage.\n",
    "t0 = [] \n",
    "t1 = []\n",
    "t2 = []\n",
    "\n",
    "# Nous arrêtons à 7 car le jeu est à l'équilibre à partir du tour 7.\n",
    "for i in range(7):\n",
    "    @jit\n",
    "    def iteration_jeu_nb_optijit(Z, n):\n",
    "        affichage = (n // 5) + 1\n",
    "        Z2 = np.asarray(list(Z))\n",
    "        plt.subplot(affichage, 5, 1)\n",
    "        plt.imshow(np.asarray(Z2))\n",
    "        for i in range(2, n + 2):\n",
    "            Z = iteration_jeu(Z2)\n",
    "            plt.subplot(affichage, 5, i)\n",
    "            plt.imshow(Z2)\n",
    "        return Z2\n",
    "\n",
    "    # Notre code avec le temps de compilation jit inclus.\n",
    "    start = time.time()\n",
    "    iteration_jeu_nb_optijit(Z, i)\n",
    "    end = time.time()\n",
    "    t0.append(end - start)\n",
    "\n",
    "    # Notre code optimisé par jit, sans le temps de la compilation.\n",
    "    start = time.time()\n",
    "    iteration_jeu_nb_optijit(Z, i)\n",
    "    end = time.time()\n",
    "    t1.append(end - start)\n",
    "\n",
    "    # Notre code original.\n",
    "    start = time.time()\n",
    "    iteration_jeu_nb(Z, i)\n",
    "    end = time.time()\n",
    "    t2.append(end - start)\n",
    "\n",
    "t0 = np.array(t0)\n",
    "t1 = np.array(t1)\n",
    "t2 = np.array(t2)\n",
    "\n",
    "print(\"Différence de temps de compilation entre la fonction originale et celle compilant jit pour chaque tour \")\n",
    "\n",
    "print((t0 - t2))\n",
    "\n",
    "print(\"Différence de temps de compilation entre la fonction originale et celle optimisée par jit pour chaque tour (sans compilation)\")\n",
    "print((t1 - t2))\n"
   ]
  },
  {
   "cell_type": "markdown",
   "metadata": {},
   "source": [
    "### Question 8\n",
    "\n"
   ]
  },
  {
   "cell_type": "markdown",
   "metadata": {},
   "source": [
    "Nous définissons la matrice Z_huge comme présentée dans l'énoncé."
   ]
  },
  {
   "cell_type": "code",
   "execution_count": 42,
   "metadata": {},
   "outputs": [],
   "source": [
    "Z_huge = np.zeros((100, 100))\n",
    "Z_np = np.array(\n",
    "[[0, 0, 0, 0, 0, 0],\n",
    "[0, 0, 0, 1, 0, 0],\n",
    "[0, 1, 0, 1, 0, 0],\n",
    "[0, 0, 1, 1, 0, 0],\n",
    "[0, 0, 0, 0, 0, 0],\n",
    "[0, 0, 0, 0, 0, 0]])\n",
    "Z_huge[10:16, 10:16] = Z_np\n"
   ]
  },
  {
   "cell_type": "markdown",
   "metadata": {},
   "source": [
    "Nous avons défini une fonction permettant d'itérer n tours du jeu de la vie avec comme matrice de départ Z_huge et qui nous renvoie la matrice ainsi obtenue.  \n",
    "Nous utilisons cette fonction nouvellement définie afin de réaliser un widget permettant de nous afficher le plateau du jeu de la vie au tour n."
   ]
  },
  {
   "cell_type": "code",
   "execution_count": 43,
   "metadata": {},
   "outputs": [
    {
     "data": {
      "application/vnd.jupyter.widget-view+json": {
       "model_id": "271c78cf09a34c1fb0020ef287056020",
       "version_major": 2,
       "version_minor": 0
      },
      "text/plain": [
       "interactive(children=(IntSlider(value=175, description='n', max=350, min=1), Output()), _dom_classes=('widget-…"
      ]
     },
     "metadata": {},
     "output_type": "display_data"
    },
    {
     "data": {
      "text/plain": [
       "<function __main__.iteration_jeu_Z_huge(n)>"
      ]
     },
     "execution_count": 43,
     "metadata": {},
     "output_type": "execute_result"
    }
   ],
   "source": [
    "ip.interact(iteration_jeu_Z_huge, n=(1, 350, 1))\n"
   ]
  },
  {
   "cell_type": "markdown",
   "metadata": {},
   "source": [
    "En faisant varier le nombre de tours, nous remarquons que le jeu se retrouve à l'équilibre lorsque nous atteignons le tour 343."
   ]
  },
  {
   "cell_type": "markdown",
   "metadata": {},
   "source": [
    "# Exercice II"
   ]
  },
  {
   "cell_type": "markdown",
   "metadata": {},
   "source": [
    "Cet exercice va porter sur l'étude du jeu de données MNIST qui est un jeu de données d'images sur lesquelles des chiffres sont écrits en version manuscrite. Notre but ici est de se familiariser avec ce jeu de données et d'effectuer plusieurs manipulations avec python pour en apprendre plus dessus."
   ]
  },
  {
   "cell_type": "markdown",
   "metadata": {},
   "source": [
    "### Question 1"
   ]
  },
  {
   "cell_type": "markdown",
   "metadata": {},
   "source": [
    "Nous commençons par importer les données nécessaires et définir nos variables."
   ]
  },
  {
   "cell_type": "code",
   "execution_count": 48,
   "metadata": {
    "scrolled": true
   },
   "outputs": [],
   "source": [
    "from sklearn.datasets import fetch_openml\n"
   ]
  },
  {
   "cell_type": "code",
   "execution_count": 49,
   "metadata": {},
   "outputs": [],
   "source": [
    "mnist = fetch_openml('mnist_784')\n",
    "X = mnist.data.astype('float64')\n",
    "y = mnist.target\n"
   ]
  },
  {
   "cell_type": "markdown",
   "metadata": {},
   "source": [
    "### Question 2"
   ]
  },
  {
   "cell_type": "markdown",
   "metadata": {},
   "source": [
    "Ici, nous voulons modifier notre jeu de données X de manière à ne garder que des images composées de 3 ou de 7."
   ]
  },
  {
   "cell_type": "code",
   "execution_count": 48,
   "metadata": {},
   "outputs": [],
   "source": [
    "# On récupère les images ayant comme numéros le 3 et le 7.\n",
    "mask3 = (y == '3')\n",
    "mask7 = (y == '7')\n",
    "# On stocke dans les variables 'indices' leurs positionnement.\n",
    "indices3 = np.where(mask3)\n",
    "indices7 = np.where(mask7)\n",
    "# On redéfinit un jeu de données ne comportant que des 7 et des 3.\n",
    "X3 = X[indices3]\n",
    "X7 = X[indices7]\n"
   ]
  },
  {
   "cell_type": "markdown",
   "metadata": {},
   "source": [
    "Maintenant, nous cherchons à afficher chacun des numéros pour nous donner une idée. Le code permettant d'afficher cela est le code ci-dessous. Notant que notre vecteur d'image était de taille 784, nous avons donc utlisé un $reshape$ en le réécrivant sous forme d'une matrice 28$\\times$28."
   ]
  },
  {
   "cell_type": "code",
   "execution_count": 34,
   "metadata": {},
   "outputs": [
    {
     "data": {
      "image/png": "[encoded data removed]",
      "text/plain": [
       "<Figure size 720x720 with 10 Axes>"
      ]
     },
     "metadata": {
      "needs_background": "light"
     },
     "output_type": "display_data"
    }
   ],
   "source": [
    "fig, axes = plt.subplots(5, 2,\n",
    "                         figsize=(10, 10),\n",
    "                         sharex=True, sharey=True)\n",
    "test = []\n",
    "i = 0\n",
    "\n",
    "while len(test) <= 9:\n",
    "    if format(y[i]) in test:\n",
    "            i += 1\n",
    "    else:\n",
    "        image = np.reshape(X[i, :], (28, 28))\n",
    "        subplot_row = len(test) // 2\n",
    "        subplot_col = len(test) % 2\n",
    "        ax = axes[subplot_row, subplot_col]\n",
    "        ax.imshow(image, cmap='gray_r')\n",
    "        ax.set_title('Chiffre représenté: {}'.format(y[i]))\n",
    "        test.append(y[i])\n",
    "        i += 1\n"
   ]
  },
  {
   "cell_type": "markdown",
   "metadata": {},
   "source": [
    "### Question 2\n"
   ]
  },
  {
   "cell_type": "markdown",
   "metadata": {},
   "source": [
    "Nous voulons effectuer une régression logistique sur l'ensemble de nos données X, nous commençons donc par importer les packages nécessaires à cela, puis nous réalisons notre regression et stockons son résultat dans la variable que nous nommons reg.log pour regression logistique. "
   ]
  },
  {
   "cell_type": "code",
   "execution_count": 35,
   "metadata": {},
   "outputs": [],
   "source": [
    "from sklearn.linear_model import LogisticRegression\n"
   ]
  },
  {
   "cell_type": "code",
   "execution_count": 40,
   "metadata": {
    "scrolled": false
   },
   "outputs": [
    {
     "name": "stderr",
     "output_type": "stream",
     "text": [
      "C:\\Users\\julien\\Anaconda3\\lib\\site-packages\\sklearn\\linear_model\\logistic.py:433: FutureWarning: Default solver will be changed to 'lbfgs' in 0.22. Specify a solver to silence this warning.\n",
      "  FutureWarning)\n",
      "C:\\Users\\julien\\Anaconda3\\lib\\site-packages\\sklearn\\linear_model\\logistic.py:460: FutureWarning: Default multi_class will be changed to 'auto' in 0.22. Specify the multi_class option to silence this warning.\n",
      "  \"this warning.\", FutureWarning)\n"
     ]
    }
   ],
   "source": [
    "reglog = LogisticRegression(fit_intercept=False).fit(X, y)\n"
   ]
  },
  {
   "cell_type": "markdown",
   "metadata": {},
   "source": [
    "Le vecteur $\\omega$ est le vecteur appris par la méthode de régression logistique. Pour l'obtenir, il suffit de récupérer le résultat en faisant la commante reglog.coef_."
   ]
  },
  {
   "cell_type": "code",
   "execution_count": 41,
   "metadata": {},
   "outputs": [],
   "source": [
    "omega=reglog.coef_"
   ]
  },
  {
   "cell_type": "markdown",
   "metadata": {},
   "source": [
    "### Question 4"
   ]
  },
  {
   "cell_type": "markdown",
   "metadata": {},
   "source": [
    "Nous avons créé une fonction dans le fichier ${utils.py}$ permettant de représenter l'impact de la transformation de notre image par l'opération (1) en fonction de la valeur de $\\alpha$. Cette fonction est commentée afin d'expliquer son fonctionnement. Nous choisissons dans cet exemple de prendre une image associée au chiffre 7. Nous allons donc utiliser notre matrice X7 créée lors de la question 2 et ne possédant que les chiffres 7 de notre jeu de données initial.   \n",
    "Nous commençons par montrer que notre fonction fig_digit fonctionne."
   ]
  },
  {
   "cell_type": "code",
   "execution_count": 42,
   "metadata": {
    "scrolled": false
   },
   "outputs": [
    {
     "data": {
      "image/png": "[encoded data removed]",
      "text/plain": [
       "<Figure size 432x288 with 1 Axes>"
      ]
     },
     "metadata": {
      "needs_background": "light"
     },
     "output_type": "display_data"
    }
   ],
   "source": [
    "fig_digit(1)\n"
   ]
  },
  {
   "cell_type": "markdown",
   "metadata": {},
   "source": [
    "Nous utilisons maintenant la fonction interact pour faire apparaître un widget permettant de faire varier notre image en fonction du paramètre alpha."
   ]
  },
  {
   "cell_type": "code",
   "execution_count": 43,
   "metadata": {},
   "outputs": [
    {
     "data": {
      "application/vnd.jupyter.widget-view+json": {
       "model_id": "712b8ee6371a4374a633c3879a3e8cbc",
       "version_major": 2,
       "version_minor": 0
      },
      "text/plain": [
       "interactive(children=(FloatSlider(value=50.00000000000001, description='alpha', min=0.1), Output()), _dom_clas…"
      ]
     },
     "metadata": {},
     "output_type": "display_data"
    },
    {
     "data": {
      "text/plain": [
       "<function __main__.fig_digit(alpha)>"
      ]
     },
     "execution_count": 43,
     "metadata": {},
     "output_type": "execute_result"
    }
   ],
   "source": [
    "ip.interact(fig_digit, alpha=(0.1, 100, 0.1))\n"
   ]
  },
  {
   "cell_type": "markdown",
   "metadata": {},
   "source": [
    "On remarque que plus notre paramètre alpha augmente et plus la netteté de l'image diminue."
   ]
  },
  {
   "cell_type": "markdown",
   "metadata": {},
   "source": [
    "### Question 5"
   ]
  },
  {
   "cell_type": "markdown",
   "metadata": {},
   "source": [
    "Nous souhaitons maintenant réaliser un film représentant l'évolution de notre image en fonction de la valeur $\\alpha$."
   ]
  },
  {
   "cell_type": "code",
   "execution_count": 21,
   "metadata": {},
   "outputs": [],
   "source": [
    "from matplotlib import animation\n"
   ]
  },
  {
   "cell_type": "markdown",
   "metadata": {},
   "source": [
    "Pour commencer, il nous faut créer une fonction que nous appellerons $init$ qui permet de définir le domaine où le \"film\" prendra part. Ensuite nous devons créer une autre fonction, appelée $animate$ dans la plupart des exemples que nous avons consulté.  \n",
    "C'est ici qu'intervient la fonction importée $animation.FunAnimation$ qui permet de réaliser le \"film\". Il sufit ensuite de l'enregistrer sous le format voulu, en général le format MP4 est le plus évident.  \n",
    "Cependant, bien qu'ayant pris connaissance de la manière de procéder, nous n'avons pas été en mesure de l'appliquer à notre cas."
   ]
  },
  {
   "cell_type": "markdown",
   "metadata": {},
   "source": [
    "### Question 6"
   ]
  },
  {
   "cell_type": "markdown",
   "metadata": {},
   "source": [
    "Au vue de l'application du widget, la variable alpha permet de rendre l'image plus ou moins pixellisée. On peut donc penser que ce paramètre semble être un paramètre nous permettant de compressser ou décompresser l'image."
   ]
  },
  {
   "cell_type": "markdown",
   "metadata": {},
   "source": [
    "### Question 7"
   ]
  },
  {
   "cell_type": "markdown",
   "metadata": {},
   "source": [
    "Nous voulons maintenant réaliser une ACP (analyse en composante principale) de notre jeu de données complet. Nous nous sommes inspirés du site donné en lien dans l'énoncé. Nous sommes partis du même code, en essayant de l'adapter à nos données, cependant les résultats obtenus ne nous semblent pas concluants. "
   ]
  },
  {
   "cell_type": "code",
   "execution_count": 45,
   "metadata": {},
   "outputs": [],
   "source": [
    "from sklearn.decomposition import PCA, IncrementalPCA\n"
   ]
  },
  {
   "cell_type": "code",
   "execution_count": 46,
   "metadata": {
    "scrolled": true
   },
   "outputs": [
    {
     "ename": "NameError",
     "evalue": "name 'X' is not defined",
     "output_type": "error",
     "traceback": [
      "\u001b[1;31m---------------------------------------------------------------------------\u001b[0m",
      "\u001b[1;31mNameError\u001b[0m                                 Traceback (most recent call last)",
      "\u001b[1;32m<ipython-input-46-e16bf3653feb>\u001b[0m in \u001b[0;36m<module>\u001b[1;34m\u001b[0m\n\u001b[0;32m      1\u001b[0m \u001b[0mn_components\u001b[0m \u001b[1;33m=\u001b[0m \u001b[1;36m10\u001b[0m\u001b[1;33m\u001b[0m\u001b[1;33m\u001b[0m\u001b[0m\n\u001b[0;32m      2\u001b[0m \u001b[0mipca\u001b[0m \u001b[1;33m=\u001b[0m \u001b[0mIncrementalPCA\u001b[0m\u001b[1;33m(\u001b[0m\u001b[0mn_components\u001b[0m\u001b[1;33m=\u001b[0m\u001b[0mn_components\u001b[0m\u001b[1;33m,\u001b[0m \u001b[0mbatch_size\u001b[0m\u001b[1;33m=\u001b[0m\u001b[1;36m10\u001b[0m\u001b[1;33m)\u001b[0m\u001b[1;33m\u001b[0m\u001b[1;33m\u001b[0m\u001b[0m\n\u001b[1;32m----> 3\u001b[1;33m \u001b[0mX_ipca\u001b[0m \u001b[1;33m=\u001b[0m \u001b[0mipca\u001b[0m\u001b[1;33m.\u001b[0m\u001b[0mfit_transform\u001b[0m\u001b[1;33m(\u001b[0m\u001b[0mX\u001b[0m\u001b[1;33m)\u001b[0m\u001b[1;33m\u001b[0m\u001b[1;33m\u001b[0m\u001b[0m\n\u001b[0m",
      "\u001b[1;31mNameError\u001b[0m: name 'X' is not defined"
     ]
    }
   ],
   "source": [
    "n_components = 10\n",
    "ipca = IncrementalPCA(n_components=n_components, batch_size=10)\n",
    "X_ipca = ipca.fit_transform(X)"
   ]
  },
  {
   "cell_type": "code",
   "execution_count": 44,
   "metadata": {},
   "outputs": [
    {
     "ename": "NameError",
     "evalue": "name 'PCA' is not defined",
     "output_type": "error",
     "traceback": [
      "\u001b[1;31m---------------------------------------------------------------------------\u001b[0m",
      "\u001b[1;31mNameError\u001b[0m                                 Traceback (most recent call last)",
      "\u001b[1;32m<ipython-input-44-609fdae6f943>\u001b[0m in \u001b[0;36m<module>\u001b[1;34m\u001b[0m\n\u001b[1;32m----> 1\u001b[1;33m \u001b[0mpca\u001b[0m \u001b[1;33m=\u001b[0m \u001b[0mPCA\u001b[0m\u001b[1;33m(\u001b[0m\u001b[0mn_components\u001b[0m\u001b[1;33m=\u001b[0m\u001b[0mn_components\u001b[0m\u001b[1;33m)\u001b[0m\u001b[1;33m\u001b[0m\u001b[1;33m\u001b[0m\u001b[0m\n\u001b[0m\u001b[0;32m      2\u001b[0m \u001b[0mX_pca\u001b[0m \u001b[1;33m=\u001b[0m \u001b[0mpca\u001b[0m\u001b[1;33m.\u001b[0m\u001b[0mfit_transform\u001b[0m\u001b[1;33m(\u001b[0m\u001b[0mX\u001b[0m\u001b[1;33m)\u001b[0m\u001b[1;33m\u001b[0m\u001b[1;33m\u001b[0m\u001b[0m\n\u001b[0;32m      3\u001b[0m colors = ['darkmagenta', 'navy', 'turquoise', 'darkorange',\n\u001b[0;32m      4\u001b[0m           'purple', 'red', 'magenta', 'cyan', 'yellow', 'black']\n\u001b[0;32m      5\u001b[0m \u001b[0mtarget_names\u001b[0m \u001b[1;33m=\u001b[0m \u001b[1;33m[\u001b[0m\u001b[1;36m0\u001b[0m\u001b[1;33m,\u001b[0m \u001b[1;36m1\u001b[0m\u001b[1;33m,\u001b[0m \u001b[1;36m2\u001b[0m\u001b[1;33m,\u001b[0m \u001b[1;36m3\u001b[0m\u001b[1;33m,\u001b[0m \u001b[1;36m4\u001b[0m\u001b[1;33m,\u001b[0m \u001b[1;36m5\u001b[0m\u001b[1;33m,\u001b[0m \u001b[1;36m6\u001b[0m\u001b[1;33m,\u001b[0m \u001b[1;36m7\u001b[0m\u001b[1;33m,\u001b[0m \u001b[1;36m8\u001b[0m\u001b[1;33m,\u001b[0m \u001b[1;36m9\u001b[0m\u001b[1;33m]\u001b[0m\u001b[1;33m\u001b[0m\u001b[1;33m\u001b[0m\u001b[0m\n",
      "\u001b[1;31mNameError\u001b[0m: name 'PCA' is not defined"
     ]
    }
   ],
   "source": [
    "pca = PCA(n_components=n_components)\n",
    "X_pca = pca.fit_transform(X)\n",
    "colors = ['darkmagenta', 'navy', 'turquoise', 'darkorange',\n",
    "          'purple', 'red', 'magenta', 'cyan', 'yellow', 'black']\n",
    "target_names = [0, 1, 2, 3, 4, 5, 6, 7, 8, 9]\n",
    "\n",
    "for X_transformed, title in [(X_ipca, \"Incremental PCA\"), (X_pca, \"PCA\")]:\n",
    "    plt.figure(figsize=(8, 8))\n",
    "    for color, i, target_name in zip(colors,\n",
    "                                     ['0', '1', '2', '3', '4', '5',\n",
    "                                      '6', '7', '8', '9'],\n",
    "                                     target_names):\n",
    "        plt.scatter(X_transformed[y == i, 0], X_transformed[y == i, 1],\n",
    "                    color=color, lw=2, label=target_name)\n",
    "\n",
    "    if \"Incremental\" in title:\n",
    "        err = np.abs(np.abs(X_pca) - np.abs(X_ipca)).mean()\n",
    "        plt.title(title + \" de MNIST dataset\\nMoyenne de l'erreur absolue \"\n",
    "                  \"%.6f\" % err)\n",
    "    else:\n",
    "        plt.title(title + \" de  MNIST dataset\")\n",
    "    plt.legend(loc=\"best\", shadow=False, scatterpoints=1)\n",
    "    plt.axis([-5000, 5000, -1000, 1000])\n",
    "\n",
    "plt.show()\n"
   ]
  }
 ],
 "metadata": {
  "kernelspec": {
   "display_name": "Python 3",
   "language": "python",
   "name": "python3"
  },
  "language_info": {
   "codemirror_mode": {
    "name": "ipython",
    "version": 3
   },
   "file_extension": ".py",
   "mimetype": "text/x-python",
   "name": "python",
   "nbconvert_exporter": "python",
   "pygments_lexer": "ipython3",
   "version": "3.7.3"
  }
 },
 "nbformat": 4,
 "nbformat_minor": 2
}
