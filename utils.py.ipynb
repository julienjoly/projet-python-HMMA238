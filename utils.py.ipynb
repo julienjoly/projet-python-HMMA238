{
 "cells": [
  {
   "cell_type": "code",
   "execution_count": 8,
   "metadata": {},
   "outputs": [],
   "source": [
    "def calcul_nb_voisins(Z):\n",
    "    forme = len(Z), len(Z[0])\n",
    "    N = [[0, ] * (forme[0]) for i in range(forme[1])]\n",
    "    for x in range(1, forme[0] - 1):\n",
    "        for y in range(1, forme[1] - 1):\n",
    "            N[x][y] = Z[x-1][y-1]+Z[x][y-1]+Z[x+1][y-1] \\\n",
    "                    + Z[x-1][y] + 0 +Z[x+1][y] \\\n",
    "                    + Z[x-1][y+1]+Z[x][y+1]+Z[x+1][y+1]\n",
    "    return N\n"
   ]
  }
 ],
 "metadata": {
  "kernelspec": {
   "display_name": "Python 3",
   "language": "python",
   "name": "python3"
  },
  "language_info": {
   "codemirror_mode": {
    "name": "ipython",
    "version": 3
   },
   "file_extension": ".py",
   "mimetype": "text/x-python",
   "name": "python",
   "nbconvert_exporter": "python",
   "pygments_lexer": "ipython3",
   "version": "3.7.3"
  }
 },
 "nbformat": 4,
 "nbformat_minor": 2
}
