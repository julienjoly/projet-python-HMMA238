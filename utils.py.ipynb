{
 "cells": [
  {
   "cell_type": "markdown",
   "metadata": {},
   "source": [
    "# Feuille de fonctions"
   ]
  },
  {
   "cell_type": "markdown",
   "metadata": {},
   "source": [
    "Nous començons par définir au départ les packages dontnous aurons besoin au cours de notre TP."
   ]
  },
  {
   "cell_type": "code",
   "execution_count": 1,
   "metadata": {},
   "outputs": [],
   "source": [
    "import matplotlib.pyplot as plt\n",
    "import numpy as np\n",
    "import time\n",
    "from numba import jit\n"
   ]
  },
  {
   "cell_type": "markdown",
   "metadata": {},
   "source": [
    "## Exercice 1"
   ]
  },
  {
   "cell_type": "code",
   "execution_count": 2,
   "metadata": {},
   "outputs": [],
   "source": [
    "Z = [[0,0,0,0,0,0],\n",
    "[0,0,0,1,0,0],\n",
    "[0,1,0,1,0,0],\n",
    "[0,0,1,1,0,0],\n",
    "[0,0,0,0,0,0],\n",
    "[0,0,0,0,0,0]];\n"
   ]
  },
  {
   "cell_type": "markdown",
   "metadata": {},
   "source": [
    "Nous commençons par définir la fonction permettant de calculer le nombre de voisin vivants de chaque cellulle dans la jeu de la vie. Le code nous a été fourni par l'énoncé."
   ]
  },
  {
   "cell_type": "code",
   "execution_count": 3,
   "metadata": {},
   "outputs": [],
   "source": [
    "def calcul_nb_voisins(Z):\n",
    "    forme = len(Z), len(Z[0])\n",
    "    N = [[0, ] * (forme[0]) for i in range(forme[1])]\n",
    "    for x in range(1, forme[0] - 1):\n",
    "        for y in range(1, forme[1] - 1):\n",
    "            N[x][y] = Z[x-1][y-1] + Z[x][y-1] + Z[x+1][y-1] \\\n",
    "                    + Z[x-1][y] + 0 + Z[x+1][y] \\\n",
    "                    + Z[x-1][y+1] + Z[x][y+1] + Z[x+1][y+1]\n",
    "    return N\n"
   ]
  },
  {
   "cell_type": "markdown",
   "metadata": {},
   "source": [
    "Voici ci-dessous le code commenté permettant d'itérer un tour du jeu de la vie avec une matrice de départ Z."
   ]
  },
  {
   "cell_type": "code",
   "execution_count": 15,
   "metadata": {
    "scrolled": true
   },
   "outputs": [],
   "source": [
    "# Nous donnons comme argument notre matrice du jeu de la vie à un tour n\n",
    "def iteration_jeu(Z):\n",
    "    forme = len(Z), len(Z[0])\n",
    "    N = calcul_nb_voisins(Z)\n",
    "    for x in range(1, forme[0]-1):\n",
    "        for y in range(1, forme[1]-1):\n",
    "            # condition de mort et de naissance\n",
    "            if Z[x][y] == 1 and (N[x][y] < 2 or N[x][y] > 3):\n",
    "                Z[x][y] = 0\n",
    "            elif Z[x][y] == 0 and N[x][y] == 3:\n",
    "                Z[x][y] = 1\n",
    "    return Z\n",
    "# Nous récupérons notre matrice du jeu de la vie au tour n+1\n"
   ]
  },
  {
   "cell_type": "raw",
   "metadata": {},
   "source": [
    "    On crée une fonction nous permettant de calculer la différence de temps de compilation, et donc d'efficacité de notre fonction iteration_jeu avant puis après application de la fonction d'optimisation jit."
   ]
  },
  {
   "cell_type": "markdown",
   "metadata": {},
   "source": [
    "Nous créons une fonction permettant de choisir le nombre de tour n que nous voulons faire pour un jeu de la vie avec une matrice de départ Z et nous renvoyant les graphiques correspondant aux différents tours."
   ]
  },
  {
   "cell_type": "code",
   "execution_count": 5,
   "metadata": {},
   "outputs": [],
   "source": [
    "def iteration_jeu_nb(Z, n):\n",
    "    affichage = (n // 5) + 1\n",
    "    Z2 = np.asarray(list(Z))\n",
    "    plt.subplot(affichage, 5, 1)\n",
    "    plt.imshow(np.asarray(Z2))\n",
    "    for i in range(2, n + 2):\n",
    "        Z = iteration_jeu(Z2)\n",
    "        plt.subplot(affichage, 5, i)\n",
    "        plt.imshow(Z2)\n",
    "    return Z2\n"
   ]
  },
  {
   "cell_type": "markdown",
   "metadata": {},
   "source": [
    "Nous définissons une autre fonction itération_jeu_nb mais sous un différent nom, de manière à pouvoir tester la différence de vitesse d'exécution entre une fonction optimisé par jit et une non optimisé."
   ]
  },
  {
   "cell_type": "code",
   "execution_count": 6,
   "metadata": {},
   "outputs": [],
   "source": [
    "def iteration_jeu_nb_optijit(Z, n):\n",
    "    affichage = (n // 5) + 1\n",
    "    Z2 = np.asarray(list(Z))\n",
    "    plt.subplot(affichage, 5, 1)\n",
    "    plt.imshow(np.asarray(Z2))\n",
    "    for i in range(2, n + 2):\n",
    "        Z = iteration_jeu(Z2)\n",
    "        plt.subplot(affichage, 5, i)\n",
    "        plt.imshow(Z2)\n",
    "    return Z2\n"
   ]
  },
  {
   "cell_type": "markdown",
   "metadata": {},
   "source": [
    "On crée une fonction nous permettant de calculer le nombre d'itération voulu pour une matrice de départ Z_huge définit dans l'énoncé. Cette fonction sera associé à un widget permettant de changer son nombre d'itération n selon notre souhait dans le notebook."
   ]
  },
  {
   "cell_type": "code",
   "execution_count": 7,
   "metadata": {},
   "outputs": [],
   "source": [
    "import ipywidgets as ip\n",
    "\n",
    "\n",
    "def iteration_jeu_Z_huge(n):\n",
    "    affichage = (n // 2) + 1\n",
    "    Z2 = np.asarray(list(Z_huge))\n",
    "    for i in range(2, n + 2):\n",
    "        iteration_jeu(Z2)\n",
    "    plt.imshow(Z2)\n",
    "    plt.show()\n"
   ]
  },
  {
   "cell_type": "markdown",
   "metadata": {},
   "source": [
    "## Execice 2"
   ]
  },
  {
   "cell_type": "markdown",
   "metadata": {},
   "source": [
    "On commence par importer les packages nécessaires à notre exercice."
   ]
  },
  {
   "cell_type": "code",
   "execution_count": 8,
   "metadata": {},
   "outputs": [],
   "source": [
    "from sklearn.datasets import fetch_mldata\n"
   ]
  },
  {
   "cell_type": "markdown",
   "metadata": {},
   "source": [
    "On définit la fonction demandé en question 4 nommée fig_digit."
   ]
  },
  {
   "cell_type": "code",
   "execution_count": 16,
   "metadata": {},
   "outputs": [],
   "source": [
    "def fig_digit(alpha):\n",
    "\n",
    "    # On réalise l'opération (1) de l'énoncé en faisant bien attention\n",
    "    # à utiliser la multiplication matricielle de numpy np.dot\n",
    "    x_mod = X7[0] - np.dot(np.dot(alpha,\n",
    "                           np.dot(clf.coef_[7].T,\n",
    "                                  X7[0])),\n",
    "                           clf.coef_[7].T) / np.linalg.norm(clf.coef_[7])\n",
    "\n",
    "    # On redimensionne l'image en une matrice 28 par 28 car\n",
    "    # 28 * 28 = 784 qui est la dimension de notre vecteur x_mod\n",
    "    image = np.reshape(x_mod, (28, 28))\n",
    "    # On affiche notre image ainsi modifiée\n",
    "    plt.imshow(image, cmap='gray_r')\n",
    "    plt.show()\n"
   ]
  }
 ],
 "metadata": {
  "kernelspec": {
   "display_name": "Python 3",
   "language": "python",
   "name": "python3"
  },
  "language_info": {
   "codemirror_mode": {
    "name": "ipython",
    "version": 3
   },
   "file_extension": ".py",
   "mimetype": "text/x-python",
   "name": "python",
   "nbconvert_exporter": "python",
   "pygments_lexer": "ipython3",
   "version": "3.7.3"
  }
 },
 "nbformat": 4,
 "nbformat_minor": 2
}
