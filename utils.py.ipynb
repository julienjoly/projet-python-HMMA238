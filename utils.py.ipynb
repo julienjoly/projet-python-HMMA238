{
 "cells": [
  {
   "cell_type": "code",
   "execution_count": 122,
   "metadata": {},
   "outputs": [],
   "source": [
    "import matplotlib.pyplot as plt\n",
    "import numpy as np\n",
    "import time\n",
    "from numba import jit\n",
    "\n"
   ]
  },
  {
   "cell_type": "code",
   "execution_count": 6,
   "metadata": {},
   "outputs": [],
   "source": [
    "Z = [[0,0,0,0,0,0],\n",
    "[0,0,0,1,0,0],\n",
    "[0,1,0,1,0,0],\n",
    "[0,0,1,1,0,0],\n",
    "[0,0,0,0,0,0],\n",
    "[0,0,0,0,0,0]];\n"
   ]
  },
  {
   "cell_type": "code",
   "execution_count": 8,
   "metadata": {},
   "outputs": [],
   "source": [
    "def calcul_nb_voisins(Z):\n",
    "    forme = len(Z), len(Z[0])\n",
    "    N = [[0, ] * (forme[0]) for i in range(forme[1])]\n",
    "    for x in range(1, forme[0] - 1):\n",
    "        for y in range(1, forme[1] - 1):\n",
    "            N[x][y] = Z[x-1][y-1]+Z[x][y-1]+Z[x+1][y-1] \\\n",
    "                    + Z[x-1][y] + 0 +Z[x+1][y] \\\n",
    "                    + Z[x-1][y+1]+Z[x][y+1]+Z[x+1][y+1]\n",
    "    return N\n"
   ]
  },
  {
   "cell_type": "code",
   "execution_count": 9,
   "metadata": {
    "scrolled": true
   },
   "outputs": [
    {
     "data": {
      "text/plain": [
       "'Nous récupérons notre matrice du jeu de la vie au tour n+1'"
      ]
     },
     "execution_count": 9,
     "metadata": {},
     "output_type": "execute_result"
    }
   ],
   "source": [
    "\"Nous donnonscomme argument notre matrice du jeu de la vie à un tour n\"\n",
    "def iteration_jeu(Z):\n",
    "    forme = len(Z), len(Z[0])\n",
    "    N = calcul_nb_voisins(Z) \n",
    "    \n",
    "    for x in range(1,forme[0]-1):\n",
    "        for y in range(1,forme[1]-1):\n",
    "            \"condition de mort et de naissance\"\n",
    "            if Z[x][y] == 1 and (N[x][y] < 2 or N[x][y] > 3):\n",
    "                Z[x][y] = 0\n",
    "            elif Z[x][y] == 0 and N[x][y] == 3:\n",
    "                Z[x][y] = 1\n",
    "    return Z\n",
    "\"Nous récupérons notre matrice du jeu de la vie au tour n+1\""
   ]
  },
  {
   "cell_type": "raw",
   "metadata": {},
   "source": [
    "    On crée une fonction nous permettant de calculer la différence de temps de compilation, et donc d'efficacité de notre fonction iteration_jeu avant puis après application de la fonction d'optimisation jit."
   ]
  },
  {
   "cell_type": "code",
   "execution_count": 101,
   "metadata": {},
   "outputs": [],
   "source": [
    "def iteration_jeu_nb(Z,n):\n",
    "    \n",
    "    affichage=(n//5)+1\n",
    "    Z2=np.asarray(list(Z))\n",
    "    plt.subplot(affichage,5,1)\n",
    "    plt.imshow(np.asarray(Z2))\n",
    "\n",
    "    for i in range(2,n+2):\n",
    "        Z=iteration_jeu(Z2)\n",
    "        plt.subplot(affichage,5,i)\n",
    "        plt.imshow(Z2)\n",
    "    return Z2"
   ]
  },
  {
   "cell_type": "code",
   "execution_count": 119,
   "metadata": {},
   "outputs": [],
   "source": [
    "\n",
    "def iteration_jeu_nb_opti(Z,n):\n",
    "    \n",
    "    affichage=(n//5)+1\n",
    "    Z2=np.asarray(list(Z))\n",
    "    plt.subplot(affichage,5,1)\n",
    "    plt.imshow(np.asarray(Z2))\n",
    "\n",
    "    for i in range(2,n+2):\n",
    "        Z=iteration_jeu(Z2)\n",
    "        plt.subplot(affichage,5,i)\n",
    "        plt.imshow(Z2)\n",
    "    return Z2"
   ]
  },
  {
   "cell_type": "code",
   "execution_count": null,
   "metadata": {},
   "outputs": [],
   "source": []
  },
  {
   "cell_type": "markdown",
   "metadata": {},
   "source": [
    "On crée une fonvtion nous permettant de calculer le nombre d'itération voulu pour une matrice de départ Z. "
   ]
  },
  {
   "cell_type": "code",
   "execution_count": 149,
   "metadata": {},
   "outputs": [],
   "source": [
    "import matplotlib.pyplot as plt\n",
    "import numpy as np\n",
    "\n",
    "def iteration_jeu_nb_sans_affichage(Z,n):\n",
    "    \n",
    "    affichage=(n//5)+1\n",
    "    Z2=np.asarray(list(Z))\n",
    "   \n",
    "\n",
    "    for i in range(2,n+2):\n",
    "        Z=iteration_jeu(Z2)\n",
    "       \n",
    "    return Z2"
   ]
  },
  {
   "cell_type": "code",
   "execution_count": null,
   "metadata": {},
   "outputs": [],
   "source": [
    "import ipywidgets as ip\n",
    "\n",
    "def iteration_jeu_Z_huge(n):\n",
    "    \n",
    "    affichage=(n//2)+1\n",
    "    Z2=np.asarray(list(Z_huge))\n",
    "\n",
    "\n",
    "    for i in range(2,n+2):\n",
    "        iteration_jeu(Z2)\n",
    "     \n",
    "    plt.imshow(Z2)\n",
    "    plt.show()\n"
   ]
  },
  {
   "cell_type": "code",
   "execution_count": 118,
   "metadata": {},
   "outputs": [
    {
     "data": {
      "text/plain": [
       "0.05039395888646444"
      ]
     },
     "execution_count": 118,
     "metadata": {},
     "output_type": "execute_result"
    },
    {
     "data": {
      "image/png": "[encoded data removed]",
      "text/plain": [
       "<Figure size 432x288 with 3 Axes>"
      ]
     },
     "metadata": {
      "needs_background": "light"
     },
     "output_type": "display_data"
    }
   ],
   "source": [
    "start = time.time()\n",
    "iteration_jeu_nb(Z,2)\n",
    "end = time.time()\n",
    "t0.append(end - start)\n",
    "\n",
    "\n",
    "sum(t0)/len(t0)"
   ]
  },
  {
   "cell_type": "code",
   "execution_count": 128,
   "metadata": {},
   "outputs": [
    {
     "data": {
      "text/plain": [
       "array([[0, 0, 0, 0, 0, 0],\n",
       "       [0, 0, 0, 1, 0, 0],\n",
       "       [0, 0, 0, 0, 1, 0],\n",
       "       [0, 0, 1, 1, 1, 0],\n",
       "       [0, 0, 0, 0, 0, 0],\n",
       "       [0, 0, 0, 0, 0, 0]])"
      ]
     },
     "execution_count": 128,
     "metadata": {},
     "output_type": "execute_result"
    },
    {
     "data": {
      "image/png": "[encoded data removed]",
      "text/plain": [
       "<Figure size 432x288 with 3 Axes>"
      ]
     },
     "metadata": {
      "needs_background": "light"
     },
     "output_type": "display_data"
    }
   ],
   "source": [
    "\n",
    "iteration_jeu_nb_opti(Z,2)\n"
   ]
  },
  {
   "cell_type": "code",
   "execution_count": 135,
   "metadata": {},
   "outputs": [],
   "source": [
    "@jit\n",
    "def iteration_jeu_nb_sans_affichage_jit(Z,n):\n",
    "    \n",
    "    affichage=(n//5)+1\n",
    "    Z2=np.asarray(list(Z))\n",
    "\n",
    "\n",
    "    for i in range(2,n+2):\n",
    "        Z=iteration_jeu(Z2)\n",
    "        \n",
    "    return Z2"
   ]
  },
  {
   "cell_type": "code",
   "execution_count": 272,
   "metadata": {
    "scrolled": true
   },
   "outputs": [
    {
     "name": "stdout",
     "output_type": "stream",
     "text": [
      "Améliorations en pourcentage par rapport au code vanilla\n",
      "[            nan             nan             nan             nan\n",
      "             nan             nan             nan -1.00000000e+02\n",
      "             nan -1.00000000e+02 -1.00000000e+02             nan\n",
      "             nan             nan             nan             nan\n",
      "             nan             nan             nan             nan\n",
      " -1.00000000e+02             nan             nan             nan\n",
      "             nan -1.00000000e+02 -7.15392870e-02 -1.00000000e+02\n",
      "             nan -1.19274809e-02             nan             inf\n",
      "             nan             nan             inf             nan\n",
      "             nan             nan             nan             nan\n",
      "             nan             inf             nan             nan\n",
      "             nan             nan             nan             nan\n",
      "             nan             nan             nan             nan\n",
      "             nan             nan -1.00000000e+02 -1.00000000e+02\n",
      "             inf             inf             nan             inf\n",
      "             inf             nan             nan             nan\n",
      "             inf             inf             nan             nan\n",
      "             nan -1.00000000e+02]\n"
     ]
    },
    {
     "name": "stderr",
     "output_type": "stream",
     "text": [
      "C:\\Users\\julien\\Anaconda3\\lib\\site-packages\\ipykernel_launcher.py:48: RuntimeWarning: divide by zero encountered in true_divide\n",
      "C:\\Users\\julien\\Anaconda3\\lib\\site-packages\\ipykernel_launcher.py:48: RuntimeWarning: invalid value encountered in true_divide\n"
     ]
    }
   ],
   "source": [
    "t0=[]\n",
    "t1 = []\n",
    "t2 = []\n",
    "n=70\n",
    "\n",
    "for i in range(1,n+1):\n",
    "    \n",
    "    \n",
    "    @jit\n",
    "    def iteration_jeu_nb_sans_affichage_jit(Z,n):\n",
    "\n",
    "        affichage=(n//5)+1\n",
    "        Z2=np.asarray(list(Z))\n",
    "\n",
    "\n",
    "        for i in range(2,n+2):\n",
    "            Z=iteration_jeu(Z2)\n",
    "\n",
    "        return Z2\n",
    "\n",
    "\n",
    "    start = time.time()\n",
    "    iteration_jeu_nb_sans_affichage_jit(Z,i)\n",
    "    end = time.time()\n",
    "    t0.append(end - start)\n",
    "   \n",
    "    \n",
    "    # COMPILATION NON INCLUSE, EXECUTER DEPUIS LE CACHE\n",
    "    start = time.time()\n",
    "    iteration_jeu_nb_sans_affichage_jit(Z,i)\n",
    "    end = time.time()\n",
    "    t1.append(end - start)\n",
    "   \n",
    "    # VANILLA PYTHON\n",
    "    start = time.time()\n",
    "    iteration_jeu_nb_sans_affichage(Z,i)\n",
    "    end = time.time()\n",
    "    t2.append(end - start)\n",
    "    \n",
    "\n",
    "\n",
    "\n",
    "t1 = np.array(t1)\n",
    "t2 = np.array(t2)\n",
    "\n",
    "print(\"Améliorations en pourcentage par rapport au code vanilla\")\n",
    "\n",
    "print((t1 - t2) / t2 * 100)\n",
    "\n"
   ]
  }
 ],
 "metadata": {
  "kernelspec": {
   "display_name": "Python 3",
   "language": "python",
   "name": "python3"
  },
  "language_info": {
   "codemirror_mode": {
    "name": "ipython",
    "version": 3
   },
   "file_extension": ".py",
   "mimetype": "text/x-python",
   "name": "python",
   "nbconvert_exporter": "python",
   "pygments_lexer": "ipython3",
   "version": "3.7.3"
  }
 },
 "nbformat": 4,
 "nbformat_minor": 2
}
